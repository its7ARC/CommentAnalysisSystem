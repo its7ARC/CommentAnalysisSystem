{
  "nbformat": 4,
  "nbformat_minor": 0,
  "metadata": {
    "colab": {
      "name": "commentAnalysis.ipynb",
      "provenance": [],
      "collapsed_sections": []
    },
    "kernelspec": {
      "name": "python3",
      "display_name": "Python 3"
    },
    "accelerator": "GPU"
  },
  "cells": [
    {
      "cell_type": "markdown",
      "metadata": {
        "id": "fKg5eVEmiSGh"
      },
      "source": [
        "Sentiment Model Training"
      ]
    },
    {
      "cell_type": "code",
      "metadata": {
        "id": "Fi2KQAtbcBIG"
      },
      "source": [
        "import numpy as np\n",
        "import matplotlib.pyplot as plt"
      ],
      "execution_count": 31,
      "outputs": []
    },
    {
      "cell_type": "code",
      "metadata": {
        "id": "sZKOwkqQcOYE"
      },
      "source": [
        "from tensorflow.keras.datasets import imdb"
      ],
      "execution_count": 32,
      "outputs": []
    },
    {
      "cell_type": "code",
      "metadata": {
        "id": "UseYReNxcQhf"
      },
      "source": [
        "((XT,YT),(Xt,Yt)) = imdb.load_data()"
      ],
      "execution_count": 33,
      "outputs": []
    },
    {
      "cell_type": "code",
      "metadata": {
        "id": "q1m7wkIocSLq"
      },
      "source": [
        "word_idx = imdb.get_word_index()"
      ],
      "execution_count": 34,
      "outputs": []
    },
    {
      "cell_type": "code",
      "metadata": {
        "id": "mEG01l50cUBb"
      },
      "source": [
        "idx_words = dict([value,key] for (key,value) in word_idx.items())\n",
        "#print(word_idx.items())"
      ],
      "execution_count": 35,
      "outputs": []
    },
    {
      "cell_type": "code",
      "metadata": {
        "id": "C0bk7icvcWMs"
      },
      "source": [
        "actual_review = ' '.join(idx_words.get(idx-3,'?') for idx in Xt[3])\n",
        "#print(Xt[3])\n",
        "#print(actual_review)\n",
        "#print(XT[0])\n",
        "#print(Yt[3])"
      ],
      "execution_count": 36,
      "outputs": []
    },
    {
      "cell_type": "code",
      "metadata": {
        "id": "TlU7A1YKjq4B",
        "colab": {
          "base_uri": "https://localhost:8080/"
        },
        "outputId": "fdf77ba1-ecef-4299-df71-eb75346809db"
      },
      "source": [
        "#print(XT)\n",
        "print(type(XT))"
      ],
      "execution_count": 37,
      "outputs": [
        {
          "output_type": "stream",
          "text": [
            "<class 'numpy.ndarray'>\n"
          ],
          "name": "stdout"
        }
      ]
    },
    {
      "cell_type": "code",
      "metadata": {
        "id": "dUnrRE2Qmj1l",
        "colab": {
          "base_uri": "https://localhost:8080/"
        },
        "outputId": "722043f0-92b9-4684-a60c-d26303cf2f5a"
      },
      "source": [
        "#Imports\n",
        "#CountVectorizer\n",
        "from sklearn.feature_extraction.text import CountVectorizer\n",
        "\n",
        "#Vectorization\n",
        "from nltk.tokenize import RegexpTokenizer\n",
        "\n",
        "#stopwords\n",
        "import nltk\n",
        "nltk.download('stopwords')\n",
        "from nltk.corpus import stopwords\n",
        "\n",
        "#SnowballStemmer\n",
        "from nltk.stem.snowball import SnowballStemmer"
      ],
      "execution_count": 38,
      "outputs": [
        {
          "output_type": "stream",
          "text": [
            "[nltk_data] Downloading package stopwords to /root/nltk_data...\n",
            "[nltk_data]   Package stopwords is already up-to-date!\n"
          ],
          "name": "stdout"
        }
      ]
    },
    {
      "cell_type": "code",
      "metadata": {
        "id": "0T8xhBkY_Rbp"
      },
      "source": [
        "def stopwordRemoval(sen):\n",
        "  sw = (stopwords.words('english'))\n",
        "  useful = ['few','only','don',\"don't\",'not','but','if','until','or','while','by','about','against','below','above','up','down','off','again','when','both','no','such','nor',\"dont't\",'should',\"should've\"]\n",
        "  sw = sw[:142]\n",
        "  sw = [word for word in sw if word not in useful]\n",
        "  sen = [word.lower() for word in sen if word.lower() not in sw]\n",
        "  return sen\n",
        "\n",
        "def stem(sen):\n",
        "  ss = SnowballStemmer(language = ('english'))\n",
        "  sen = [ss.stem(word) for word in sen] \n",
        "  return sen\n",
        "\n",
        "#preprocessing on trainingData\n",
        "\n",
        "def vectorize(XT):                         #stopwordRemoval + Stemming + Vectorization\n",
        "  corpus = []\n",
        "  #Getting actual reviews \n",
        "  for i in XT:\n",
        "    sen = ' '.join(idx_words.get(idx-3,'?') for idx in i)\n",
        "    corpus.append(sen)\n",
        "  \n",
        "\n",
        "  tokenizer = RegexpTokenizer('[a-zA-Z\\']+')   \n",
        "  i = 0\n",
        "  #Tokenization + StopwordRemoval + Stemming\n",
        "  for sen in corpus:\n",
        "    sen = tokenizer.tokenize(sen) \n",
        "    sen = stopwordRemoval(sen)\n",
        "    #sen = stem(sen)\n",
        "    sen = ' '.join(word for word in sen)\n",
        "    corpus[i] = sen\n",
        "    i = i+1\n",
        "  \n",
        "  #Vectorization\n",
        "  cv = CountVectorizer(max_features = 10000)\n",
        "  vect = cv.fit_transform(corpus)\n",
        "  vocab = cv.vocabulary_\n",
        "  invVocab = dict(zip(vocab.values(), vocab.keys()))\n",
        "\n",
        "  #Making new XTrain\n",
        "  XVec = []\n",
        "  for i in corpus:\n",
        "    i = i.split()\n",
        "    item = [vocab.get(key) for key in i if vocab.get(key) != None]\n",
        "    XVec.append(item)\n",
        "\n",
        "  XVec = np.array(XVec)\n",
        "  return cv, XVec, vocab, invVocab\n"
      ],
      "execution_count": 39,
      "outputs": []
    },
    {
      "cell_type": "code",
      "metadata": {
        "id": "iIcpgkW15uSw"
      },
      "source": [
        "cv,XT_,vocab,invVocab = vectorize(XT)\n",
        "#save vocab, invVocab"
      ],
      "execution_count": 40,
      "outputs": []
    },
    {
      "cell_type": "code",
      "metadata": {
        "id": "bSItfU4y-DNe"
      },
      "source": [
        "#Preprocessing on testingData\n",
        "\n",
        "def preProcess(Xt,vocab):\n",
        "  corpus = []\n",
        "  #Getting actual reviews \n",
        "  for i in Xt:\n",
        "    sen = ' '.join(idx_words.get(idx-3,'?') for idx in i)\n",
        "    corpus.append(sen)\n",
        "  \n",
        "\n",
        "  tokenizer = RegexpTokenizer('[a-zA-Z\\']+')   \n",
        "  i = 0\n",
        "  #StopwordRemoval + Stemming\n",
        "  for sen in corpus:\n",
        "    sen = tokenizer.tokenize(sen) \n",
        "    sen = stopwordRemoval(sen)\n",
        "    #sen = stem(sen)\n",
        "    sen = ' '.join(word for word in sen)\n",
        "    corpus[i] = sen\n",
        "    i = i+1\n",
        "  \n",
        "  XVec = []\n",
        "  for i in corpus:\n",
        "    i = i.split()\n",
        "    item = [vocab.get(key) for key in i if vocab.get(key) != None]\n",
        "    XVec.append(item)\n",
        "\n",
        "\n",
        "  XVec = np.array(XVec)\n",
        "  return XVec\n"
      ],
      "execution_count": 41,
      "outputs": []
    },
    {
      "cell_type": "code",
      "metadata": {
        "id": "24VRDI7EGwmg"
      },
      "source": [
        "Xt_ = preProcess(Xt,vocab)"
      ],
      "execution_count": 42,
      "outputs": []
    },
    {
      "cell_type": "code",
      "metadata": {
        "id": "oh9cZYecQrv-"
      },
      "source": [
        "#print(XT_)\n",
        "#print(Xt_)\n",
        "#print(vocab)\n",
        "#print(invVocab)"
      ],
      "execution_count": 43,
      "outputs": []
    },
    {
      "cell_type": "code",
      "metadata": {
        "id": "Yg5N-Jic5uY4",
        "colab": {
          "base_uri": "https://localhost:8080/"
        },
        "outputId": "8b991068-5e37-4bcc-8d72-66b4784ea7df"
      },
      "source": [
        "#saving voabulary\n",
        "filehandler = open('vocabFile.txt', 'wt')\n",
        "data = str(vocab)\n",
        "filehandler.write(data)"
      ],
      "execution_count": 44,
      "outputs": [
        {
          "output_type": "execute_result",
          "data": {
            "text/plain": [
              "165946"
            ]
          },
          "metadata": {
            "tags": []
          },
          "execution_count": 44
        }
      ]
    },
    {
      "cell_type": "code",
      "metadata": {
        "id": "UZmpw_XqowKN"
      },
      "source": [
        ""
      ],
      "execution_count": 44,
      "outputs": []
    },
    {
      "cell_type": "code",
      "metadata": {
        "id": "BKLxCyJ-cZei"
      },
      "source": [
        ""
      ],
      "execution_count": 44,
      "outputs": []
    },
    {
      "cell_type": "code",
      "metadata": {
        "id": "IVWeZ2zQMyuy"
      },
      "source": [
        "import matplotlib.pyplot as plt"
      ],
      "execution_count": 45,
      "outputs": []
    },
    {
      "cell_type": "code",
      "metadata": {
        "id": "EV1bJXC_ccM9",
        "colab": {
          "base_uri": "https://localhost:8080/",
          "height": 351
        },
        "outputId": "4136acb8-9865-4561-dc67-46976803029b"
      },
      "source": [
        "length = []\n",
        "l = 0\n",
        "i = 0\n",
        "for vect in XT_:\n",
        "  l += len(vect)\n",
        "  length.append(len(vect))\n",
        "  i += 1\n",
        "print(l/i)\n",
        "plt.hist(length,range = (0,500),rwidth = 0.9)"
      ],
      "execution_count": 46,
      "outputs": [
        {
          "output_type": "stream",
          "text": [
            "119.7056\n"
          ],
          "name": "stdout"
        },
        {
          "output_type": "execute_result",
          "data": {
            "text/plain": [
              "(array([ 2740., 11407.,  4808.,  2510.,  1379.,   845.,   498.,   308.,\n",
              "          237.,   183.]),\n",
              " array([  0.,  50., 100., 150., 200., 250., 300., 350., 400., 450., 500.]),\n",
              " <a list of 10 Patch objects>)"
            ]
          },
          "metadata": {
            "tags": []
          },
          "execution_count": 46
        },
        {
          "output_type": "display_data",
          "data": {
            "image/png": "[encoded data removed]",
            "text/plain": [
              "<Figure size 432x288 with 1 Axes>"
            ]
          },
          "metadata": {
            "tags": [],
            "needs_background": "light"
          }
        }
      ]
    },
    {
      "cell_type": "code",
      "metadata": {
        "id": "vPr3GzPXOw-n"
      },
      "source": [
        "from tensorflow.keras.preprocessing import sequence\n",
        "X_train = sequence.pad_sequences(XT_,maxlen = 500)\n",
        "X_test = sequence.pad_sequences(Xt_, maxlen = 500)"
      ],
      "execution_count": 47,
      "outputs": []
    },
    {
      "cell_type": "code",
      "metadata": {
        "id": "0MRrBtisIeKG"
      },
      "source": [
        "from keras.utils import to_categorical\n",
        "YT_ = to_categorical(YT)\n",
        "Yt_ = to_categorical(Yt)"
      ],
      "execution_count": 48,
      "outputs": []
    },
    {
      "cell_type": "code",
      "metadata": {
        "id": "cvrCJglPH70Y"
      },
      "source": [
        "\n"
      ],
      "execution_count": 48,
      "outputs": []
    },
    {
      "cell_type": "code",
      "metadata": {
        "id": "qilvjPTIcePE"
      },
      "source": [
        "from keras.models import Sequential\n",
        "from keras.layers import Embedding, Dense, LSTM, Dropout, Conv1D"
      ],
      "execution_count": 49,
      "outputs": []
    },
    {
      "cell_type": "code",
      "metadata": {
        "id": "AZWVn6iwcf2E",
        "colab": {
          "base_uri": "https://localhost:8080/"
        },
        "outputId": "2c3e248a-eabe-4f8f-cf63-8ea5085303f8"
      },
      "source": [
        "model = Sequential()\n",
        "model.add(Embedding(10000,64))\n",
        "model.add(LSTM(500))\n",
        "model.add(Dropout(0.4))\n",
        "model.add(Dense(2,activation = 'sigmoid'))\n",
        "model.summary()"
      ],
      "execution_count": 79,
      "outputs": [
        {
          "output_type": "stream",
          "text": [
            "Model: \"sequential_4\"\n",
            "_________________________________________________________________\n",
            "Layer (type)                 Output Shape              Param #   \n",
            "=================================================================\n",
            "embedding_4 (Embedding)      (None, None, 64)          640000    \n",
            "_________________________________________________________________\n",
            "lstm_4 (LSTM)                (None, 500)               1130000   \n",
            "_________________________________________________________________\n",
            "dropout_4 (Dropout)          (None, 500)               0         \n",
            "_________________________________________________________________\n",
            "dense_4 (Dense)              (None, 2)                 1002      \n",
            "=================================================================\n",
            "Total params: 1,771,002\n",
            "Trainable params: 1,771,002\n",
            "Non-trainable params: 0\n",
            "_________________________________________________________________\n"
          ],
          "name": "stdout"
        }
      ]
    },
    {
      "cell_type": "code",
      "metadata": {
        "id": "ZlwkM2ZCch4I",
        "colab": {
          "base_uri": "https://localhost:8080/"
        },
        "outputId": "c985a2d5-dbd2-48dd-b677-fab42862df84"
      },
      "source": [
        "#Compiling model\n",
        "model.compile(optimizer = \"RMSProp\", loss = 'categorical_crossentropy', metrics = ['acc'])\n",
        "#For saving only the best weights for val_acc\n",
        "from keras.callbacks import ModelCheckpoint\n",
        "checkpoint = ModelCheckpoint(\"sentimentModel.h5\",monitor = 'val_loss',verbose = 0,save_best_only = True,save_weights_only = False, mode = 'auto',period = 1)\n",
        "#Early stopping is also an option\n",
        "from keras.callbacks import EarlyStopping\n",
        "earlyStop = EarlyStopping(monitor = 'val_acc',patience = 3)"
      ],
      "execution_count": 80,
      "outputs": [
        {
          "output_type": "stream",
          "text": [
            "WARNING:tensorflow:`period` argument is deprecated. Please use `save_freq` to specify the frequency in number of batches seen.\n"
          ],
          "name": "stdout"
        }
      ]
    },
    {
      "cell_type": "code",
      "metadata": {
        "id": "AvdpJgvFcjnm",
        "colab": {
          "base_uri": "https://localhost:8080/"
        },
        "outputId": "8f0ddb0a-625c-441d-cd05-5d9f693e2189"
      },
      "source": [
        "hist = model.fit(X_train,YT_, validation_split = 0.1, epochs = 10, batch_size = 256, callbacks = [checkpoint, earlyStop])"
      ],
      "execution_count": 81,
      "outputs": [
        {
          "output_type": "stream",
          "text": [
            "Epoch 1/10\n",
            "88/88 [==============================] - 33s 371ms/step - loss: 0.6741 - acc: 0.6797 - val_loss: 0.5073 - val_acc: 0.7744\n",
            "Epoch 2/10\n",
            "88/88 [==============================] - 33s 380ms/step - loss: 0.4368 - acc: 0.8257 - val_loss: 0.4266 - val_acc: 0.8452\n",
            "Epoch 3/10\n",
            "88/88 [==============================] - 33s 374ms/step - loss: 0.4046 - acc: 0.8431 - val_loss: 0.3413 - val_acc: 0.8608\n",
            "Epoch 4/10\n",
            "88/88 [==============================] - 33s 376ms/step - loss: 0.2900 - acc: 0.8861 - val_loss: 0.3428 - val_acc: 0.8504\n",
            "Epoch 5/10\n",
            "88/88 [==============================] - 33s 377ms/step - loss: 0.2535 - acc: 0.9046 - val_loss: 0.3838 - val_acc: 0.8252\n",
            "Epoch 6/10\n",
            "88/88 [==============================] - 33s 376ms/step - loss: 0.2074 - acc: 0.9246 - val_loss: 0.4031 - val_acc: 0.8252\n"
          ],
          "name": "stdout"
        }
      ]
    },
    {
      "cell_type": "code",
      "metadata": {
        "id": "GdtgTntjcoEr"
      },
      "source": [
        "acc = hist.history['acc']\n",
        "loss = hist.history['loss']\n",
        "val_acc = hist.history['val_acc']\n",
        "val_loss = hist.history['val_loss']"
      ],
      "execution_count": 82,
      "outputs": []
    },
    {
      "cell_type": "code",
      "metadata": {
        "id": "4x2hxBJAeXTC",
        "colab": {
          "base_uri": "https://localhost:8080/",
          "height": 400
        },
        "outputId": "0c9887be-c181-4f55-d8ee-564f244ff5f9"
      },
      "source": [
        " plt.style.use(\"seaborn\")\n",
        "fig = plt.figure()\n",
        "fig.suptitle('Accuracy')\n",
        "plt.xlabel('Epoch')\n",
        "plt.ylabel('Accuracy')\n",
        "plt.plot(acc,label = 'training_acc')\n",
        "plt.plot(val_acc, label = 'val_acc')\n",
        "plt.show()"
      ],
      "execution_count": 83,
      "outputs": [
        {
          "output_type": "display_data",
          "data": {
            "image/png": "[encoded data removed]",
            "text/plain": [
              "<Figure size 576x396 with 1 Axes>"
            ]
          },
          "metadata": {
            "tags": []
          }
        }
      ]
    },
    {
      "cell_type": "code",
      "metadata": {
        "id": "451Bjq87eaJg"
      },
      "source": [
        " model.save('sentimentModel.h5')"
      ],
      "execution_count": 84,
      "outputs": []
    },
    {
      "cell_type": "code",
      "metadata": {
        "id": "HVIZG4k8JgQz"
      },
      "source": [
        "import tensorflow as tf"
      ],
      "execution_count": 85,
      "outputs": []
    },
    {
      "cell_type": "code",
      "metadata": {
        "id": "sA5vhsXnEJVq"
      },
      "source": [
        ""
      ],
      "execution_count": 85,
      "outputs": []
    },
    {
      "cell_type": "code",
      "metadata": {
        "id": "K_p8fpWCVTad",
        "colab": {
          "base_uri": "https://localhost:8080/"
        },
        "outputId": "1b67ecc0-c7ec-43a8-e781-f4853730c6f9"
      },
      "source": [
        "#Evaluating model on testingData\n",
        "loss, acc = model.evaluate(X_test,Yt_)"
      ],
      "execution_count": 86,
      "outputs": [
        {
          "output_type": "stream",
          "text": [
            "782/782 [==============================] - 21s 27ms/step - loss: 0.3942 - acc: 0.8318\n"
          ],
          "name": "stdout"
        }
      ]
    },
    {
      "cell_type": "code",
      "metadata": {
        "id": "bWyUJaIvN_uL"
      },
      "source": [
        "pred = np.argmax(model.predict(X_test),axis = 1)"
      ],
      "execution_count": 87,
      "outputs": []
    },
    {
      "cell_type": "code",
      "metadata": {
        "id": "Ecdri26BH7m9"
      },
      "source": [
        ""
      ],
      "execution_count": 87,
      "outputs": []
    },
    {
      "cell_type": "code",
      "metadata": {
        "id": "KzwWV6BkH9Mi"
      },
      "source": [
        ""
      ],
      "execution_count": null,
      "outputs": []
    },
    {
      "cell_type": "code",
      "metadata": {
        "id": "7DThGFtpH9R1"
      },
      "source": [
        ""
      ],
      "execution_count": null,
      "outputs": []
    },
    {
      "cell_type": "markdown",
      "metadata": {
        "id": "A3GJgeg448Ts"
      },
      "source": [
        "Calculating Expected time of computaion per comment\n",
        "\n",
        "\n"
      ]
    },
    {
      "cell_type": "code",
      "metadata": {
        "id": "oxHLCS60iMoo"
      },
      "source": [
        "def computationTime(n):\n",
        "    X_Vec = X_test[0:n]\n",
        "    out = np.argmax(model.predict(X_Vec),axis = 1)\n",
        "    print(out)\n",
        "    return "
      ],
      "execution_count": null,
      "outputs": []
    },
    {
      "cell_type": "code",
      "metadata": {
        "id": "YrAycAxsiMbY"
      },
      "source": [
        "#time observed with stopwatch\n",
        "#computationTime(1) -> 1.48sec\n",
        "#computationTime(50) -> 1.49sec\n",
        "#computationTime(100) -> 1.50sec\n",
        "#computationTime(500) -> 1.52sec\n",
        "#computationTime(1000) -> 1.72sec\n",
        "#computationTime(2000) -> 1.89sec\n",
        "#computationTime(5000) -> 2.42ssc\n",
        "#computationTime(10000) -> 4.33sec\n",
        "#computationTime(20000) -> 6.94sec"
      ],
      "execution_count": null,
      "outputs": []
    },
    {
      "cell_type": "code",
      "metadata": {
        "id": "7gRK3yIliMSa"
      },
      "source": [
        ""
      ],
      "execution_count": null,
      "outputs": []
    },
    {
      "cell_type": "code",
      "metadata": {
        "id": "dktgJTTHiLzm"
      },
      "source": [
        ""
      ],
      "execution_count": null,
      "outputs": []
    },
    {
      "cell_type": "code",
      "metadata": {
        "id": "YRVDDfE4yxEC"
      },
      "source": [
        "import numpy as np\n",
        "import matplotlib.pyplot as plt"
      ],
      "execution_count": null,
      "outputs": []
    },
    {
      "cell_type": "markdown",
      "metadata": {
        "id": "S3fBOnwhFSnn"
      },
      "source": [
        "Single Server Queuing System (for analysis of model Perfomance)"
      ]
    },
    {
      "cell_type": "code",
      "metadata": {
        "id": "W4r-F2o1HUBe"
      },
      "source": [
        "class StateVariables:\n",
        "    def __init__(self):\n",
        "        self.serverStatus = 0\n",
        "        self.numberInQueue = 0\n",
        "        self.timeOfArrival = []\n",
        "        self.lastEvent = 0\n",
        "\n",
        "class StatisticalCounters:\n",
        "    def __init__(self):\n",
        "        self.numberDelayed = 0\n",
        "        self.totalDelay = 0\n",
        "        self.areaQ = 0\n",
        "        self.areaB = 0\n",
        "        self.Q = [[0, 0]]\n",
        "        self.B = [[0, 0]]\n",
        "\n",
        "class clock:\n",
        "    def __init__(self):\n",
        "        self.time = 0\n",
        "        self.eventList = [1,100]        #arrival(50 comments), departure\n",
        "\n",
        "\n",
        "def libraryRoutine(c):\n",
        "    time = c.time\n",
        "    if (time - time.astype(int)) == 0:\n",
        "        return time+1\n",
        "    else:\n",
        "        return time.astype(int) + 1\n",
        "\n",
        "def initialisationRoutine():\n",
        "    sv = StateVariables()\n",
        "    sc = StatisticalCounters()\n",
        "    c = clock()\n",
        "    return sv,sc,c\n",
        "\n",
        "\n",
        "def timingRoutine(c):\n",
        "    el = c.eventList\n",
        "    c.time = np.min(el)\n",
        "    return c.time, np.argmin(el)\n",
        "\n",
        "def eventRoutine(sv,sc,c,eventType):\n",
        "    sc.Q.append([sv.numberInQueue*50, c.time])\n",
        "    sc.B.append([sv.serverStatus, c.time])\n",
        "    if (sv.serverStatus == 1):\n",
        "        sc.areaB += (c.time - sv.lastEvent)\n",
        "    sc.areaQ += ((c.time - sv.lastEvent)*(sv.numberInQueue)*50)\n",
        "    \n",
        "    if (eventType == 1):\n",
        "        sv.serverStatus = 0\n",
        "        c.eventList[1] = 100\n",
        "\n",
        "    if (eventType == 0):\n",
        "        sv.numberInQueue += 1\n",
        "        sv.timeOfArrival.append(c.time)\n",
        "        c.eventList[0] = libraryRoutine(c)\n",
        "    \n",
        "    if (sv.serverStatus == 0 and sv.numberInQueue>=2):\n",
        "        \n",
        "        for t in sv.timeOfArrival:\n",
        "            sc.totalDelay += (c.time - t)*50\n",
        "        sc.numberDelayed += (sv.numberInQueue*50)\n",
        "        sv.serverStatus = 1\n",
        "        sc.B.append([1,c.time])\n",
        "        sv.numberInQueue = 0\n",
        "        sv.timeOfArrival = []\n",
        "        c.eventList[1] = c.time + 1.5\n",
        "\n",
        "    sc.Q.append([sv.numberInQueue*50, c.time])\n",
        "    sc.B.append([sv.serverStatus, c.time])\n",
        "    sv.lastEvent = c.time\n",
        "    return sv,sc,c\n",
        "\n",
        "\n",
        "def ssqs():\n",
        "    sv,sc,c = initialisationRoutine()\n",
        "    while (sc.numberDelayed < 1000):\n",
        "        nextEvent, eventType = timingRoutine(c)\n",
        "        sv,sc,c = eventRoutine(sv,sc,c,eventType)\n",
        "    \n",
        "    Qn = sc.areaQ/c.time\n",
        "    Bn = sc.areaB/c.time\n",
        "    avgDelay = sc.totalDelay/sc.numberDelayed\n",
        "    Q = sc.Q\n",
        "    B = sc.B\n",
        "    return sc.numberDelayed, avgDelay, Qn, Bn, Q, B\n"
      ],
      "execution_count": null,
      "outputs": []
    },
    {
      "cell_type": "code",
      "metadata": {
        "id": "vY6AeN68k23M"
      },
      "source": [
        "numberDelayed, avgDelay, Qn, Bn, Q, B = ssqs()"
      ],
      "execution_count": null,
      "outputs": []
    },
    {
      "cell_type": "code",
      "metadata": {
        "id": "1dey3e9sHjpq",
        "colab": {
          "base_uri": "https://localhost:8080/"
        },
        "outputId": "40b6c1d9-3e50-4490-cc4c-76e2acfd6a37"
      },
      "source": [
        "print(numberDelayed, avgDelay, Qn, Bn)"
      ],
      "execution_count": null,
      "outputs": [
        {
          "output_type": "stream",
          "text": [
            "1000 0.5 25.0 0.675\n"
          ],
          "name": "stdout"
        }
      ]
    },
    {
      "cell_type": "code",
      "metadata": {
        "id": "LPVIjmoEHj-C"
      },
      "source": [
        "#Quiet good a perfomance for a server with traffic of 50 comments/second"
      ],
      "execution_count": null,
      "outputs": []
    },
    {
      "cell_type": "markdown",
      "metadata": {
        "id": "CHhciEgkHkFp"
      },
      "source": [
        "Plotting Q(t) and B(t)"
      ]
    },
    {
      "cell_type": "code",
      "metadata": {
        "id": "BUFNNVSlHkKM",
        "colab": {
          "base_uri": "https://localhost:8080/",
          "height": 783
        },
        "outputId": "c193a825-4859-4565-8933-f562debcf041"
      },
      "source": [
        "Qq = []\n",
        "Qt = []\n",
        "Bb = []\n",
        "Bt = []\n",
        "\n",
        "i = 0\n",
        "for q in Q:\n",
        "    Qt.append(q[1])\n",
        "    Qq.append(q[0])\n",
        "    i+=1\n",
        "\n",
        "i = 0\n",
        "for b in B:\n",
        "    Bt.append(b[1])\n",
        "    Bb.append(b[0])\n",
        "    i+=1\n",
        "\n",
        "plt.style.use('seaborn')\n",
        "fig = plt.figure()\n",
        "fig.suptitle('Q(t)')\n",
        "plt.xlabel('t')\n",
        "plt.ylabel('Q')\n",
        "plt.plot(Qt, Qq)\n",
        "plt.show()\n",
        "fig = plt.figure()\n",
        "fig.suptitle('B(t)')\n",
        "plt.xlabel('t')\n",
        "plt.ylabel('B')\n",
        "plt.plot(Bt, Bb)\n",
        "plt.show()"
      ],
      "execution_count": null,
      "outputs": [
        {
          "output_type": "display_data",
          "data": {
            "image/png": "[encoded data removed]",
            "text/plain": [
              "<Figure size 576x396 with 1 Axes>"
            ]
          },
          "metadata": {
            "tags": []
          }
        },
        {
          "output_type": "display_data",
          "data": {
            "image/png": "[encoded data removed]",
            "text/plain": [
              "<Figure size 576x396 with 1 Axes>"
            ]
          },
          "metadata": {
            "tags": []
          }
        }
      ]
    },
    {
      "cell_type": "code",
      "metadata": {
        "id": "J_7-cCRN4Hdx"
      },
      "source": [
        ""
      ],
      "execution_count": null,
      "outputs": []
    },
    {
      "cell_type": "code",
      "metadata": {
        "id": "rcHEZUFo4Hk_"
      },
      "source": [
        ""
      ],
      "execution_count": null,
      "outputs": []
    },
    {
      "cell_type": "code",
      "metadata": {
        "id": "X6RT31AJ4Hov"
      },
      "source": [
        ""
      ],
      "execution_count": null,
      "outputs": []
    },
    {
      "cell_type": "code",
      "metadata": {
        "id": "94yK_UMi4Huh"
      },
      "source": [
        ""
      ],
      "execution_count": null,
      "outputs": []
    },
    {
      "cell_type": "code",
      "metadata": {
        "id": "Bt_mGs9L4Hsn"
      },
      "source": [
        ""
      ],
      "execution_count": null,
      "outputs": []
    },
    {
      "cell_type": "code",
      "metadata": {
        "id": "F6muWmOc4FuT"
      },
      "source": [
        ""
      ],
      "execution_count": null,
      "outputs": []
    },
    {
      "cell_type": "code",
      "metadata": {
        "id": "-6Y6w55DHkPR"
      },
      "source": [
        ""
      ],
      "execution_count": null,
      "outputs": []
    },
    {
      "cell_type": "markdown",
      "metadata": {
        "id": "yBhPszQTighN"
      },
      "source": [
        "Overall Model Deployment"
      ]
    },
    {
      "cell_type": "code",
      "metadata": {
        "id": "8lg1s7AhEa_E"
      },
      "source": [
        "import numpy as np\n",
        "import matplotlib.pyplot as plt"
      ],
      "execution_count": 88,
      "outputs": []
    },
    {
      "cell_type": "code",
      "metadata": {
        "id": "TCFNBKA1oJvD"
      },
      "source": [
        "#loadingModel"
      ],
      "execution_count": 89,
      "outputs": []
    },
    {
      "cell_type": "code",
      "metadata": {
        "id": "8Jp1oGjufAUt"
      },
      "source": [
        "from tensorflow.keras import models"
      ],
      "execution_count": 90,
      "outputs": []
    },
    {
      "cell_type": "code",
      "metadata": {
        "id": "2XTXZC-LeGBZ"
      },
      "source": [
        "model = models.load_model('sentimentModel.h5')"
      ],
      "execution_count": 91,
      "outputs": []
    },
    {
      "cell_type": "code",
      "metadata": {
        "id": "X-8lxKShu56o"
      },
      "source": [
        "import ast"
      ],
      "execution_count": 92,
      "outputs": []
    },
    {
      "cell_type": "code",
      "metadata": {
        "id": "MkjXCm_UoMM0"
      },
      "source": [
        "#Importing vocabulary\n",
        "f = open('vocabFile.txt', 'r') \n",
        "vocab = f.read()\n",
        "vocab = ast.literal_eval(vocab)"
      ],
      "execution_count": 93,
      "outputs": []
    },
    {
      "cell_type": "code",
      "metadata": {
        "id": "edH1dw4upOOR"
      },
      "source": [
        "#print((vocab))"
      ],
      "execution_count": 94,
      "outputs": []
    },
    {
      "cell_type": "code",
      "metadata": {
        "id": "mZQoinUZf-7j",
        "colab": {
          "base_uri": "https://localhost:8080/"
        },
        "outputId": "b2ec7e1f-bfad-4e81-cfa6-d3d9e82151d3"
      },
      "source": [
        "#Imports\n",
        "\n",
        "#Vectorization\n",
        "from nltk.tokenize import RegexpTokenizer\n",
        "\n",
        "#stopwords\n",
        "import nltk\n",
        "nltk.download('stopwords')\n",
        "from nltk.corpus import stopwords\n",
        "\n",
        "#SnowballStemmer\n",
        "from nltk.stem.snowball import SnowballStemmer\n",
        "\n",
        "#padding\n",
        "from tensorflow.keras.preprocessing import sequence"
      ],
      "execution_count": 95,
      "outputs": [
        {
          "output_type": "stream",
          "text": [
            "[nltk_data] Downloading package stopwords to /root/nltk_data...\n",
            "[nltk_data]   Package stopwords is already up-to-date!\n"
          ],
          "name": "stdout"
        }
      ]
    },
    {
      "cell_type": "code",
      "metadata": {
        "id": "QtWgAM2caQZd"
      },
      "source": [
        "def stopwordRemoval(sen):\n",
        "  sw = (stopwords.words('english'))\n",
        "  useful = ['few','only','don',\"don't\",'not','but','if','until','or','while','by','about','against','below','above','up','down','off','again','when','both','no','such','nor',\"dont't\",'should',\"should've\"]\n",
        "  sw = sw[:142]\n",
        "  sw = [word for word in sw if word not in useful]\n",
        "  sw += [\"cunt\", \"wank\", \"fuck\", \"bastard\", \"dick\", \"cock\", \"pussy\", \"twat\",\n",
        " \"tit\", \"bitch\", \"shit\", \"ass\", \"arse\", \"crap\", \"damn\", \"nigga\", \"nigger\", \n",
        " \"porn\", \"hooker\", \"whore\", \"hoe\", \"cooch\", \"slut\", \"fap\", \"jerk\", \"fag\", \n",
        " \"boob\", \"darn\"]\n",
        "  sen = [word.lower() for word in sen if word.lower() not in sw]\n",
        "  return sen\n",
        "\n",
        "def stem(sen):\n",
        "  ss = SnowballStemmer(language = ('english'))\n",
        "  sen = [ss.stem(word) for word in sen] \n",
        "  return sen"
      ],
      "execution_count": 96,
      "outputs": []
    },
    {
      "cell_type": "code",
      "metadata": {
        "id": "M_IJNIWixXxt"
      },
      "source": [
        ""
      ],
      "execution_count": 96,
      "outputs": []
    },
    {
      "cell_type": "code",
      "metadata": {
        "id": "nB0-MwNAbEd0"
      },
      "source": [
        "#Preprocessing on inputData\n",
        "\n",
        "def preProcessInput(corpus,vocab):\n",
        "  tokenizer = RegexpTokenizer('[a-zA-Z\\']+')   \n",
        "  i = 0\n",
        "  corpusCopy = corpus\n",
        "  #StopwordRemoval + Stemming\n",
        "  for sen in corpusCopy:\n",
        "    sen = tokenizer.tokenize(sen) \n",
        "    sen = stopwordRemoval(sen)\n",
        "    #sen = stem(sen)\n",
        "    corpus[i] = sen\n",
        "    i = i+1\n",
        "  \n",
        "  XVec = []\n",
        "  for i in corpusCopy:\n",
        "    item = [vocab.get(key) for key in i if vocab.get(key) != None]\n",
        "    XVec.append(item)\n",
        "\n",
        "\n",
        "  XVec = np.array(XVec)\n",
        "  XVec = sequence.pad_sequences(XVec,maxlen = 500)\n",
        "  corpus = []\n",
        "  return XVec"
      ],
      "execution_count": 97,
      "outputs": []
    },
    {
      "cell_type": "code",
      "metadata": {
        "id": "AT5qJTjGoPc8",
        "colab": {
          "base_uri": "https://localhost:8080/"
        },
        "outputId": "b9474589-6717-4df9-c3b8-bccdbb838d51"
      },
      "source": [
        "#Adding sentences to corpus (as they arrive on server)\n",
        "corpus = []\n",
        "testSen = \"He has sung it so beautifully. Amazing! They've done a great job\"\n",
        "corpus.append(testSen)\n",
        "testSen = \"Such a horrible post!\"\n",
        "corpus.append(testSen)\n",
        "print(corpus)"
      ],
      "execution_count": 98,
      "outputs": [
        {
          "output_type": "stream",
          "text": [
            "[\"He has sung it so beautifully. Amazing! They've done a great job\", 'Such a horrible post!']\n"
          ],
          "name": "stdout"
        }
      ]
    },
    {
      "cell_type": "markdown",
      "metadata": {
        "id": "GOIrEUugyKdz"
      },
      "source": [
        "predictFunction"
      ]
    },
    {
      "cell_type": "code",
      "metadata": {
        "id": "uPLslNkoE8sL"
      },
      "source": [
        "def pred(corpus, vocab):\n",
        "    XVec = preProcessInput(corpus,vocab)\n",
        "    return np.argmax(model.predict(XVec),axis = 1)"
      ],
      "execution_count": 99,
      "outputs": []
    },
    {
      "cell_type": "code",
      "metadata": {
        "id": "US5-NZxUfCFl",
        "colab": {
          "base_uri": "https://localhost:8080/"
        },
        "outputId": "9badcefa-f298-4f2f-d773-7fa0db653e27"
      },
      "source": [
        "output = pred(corpus,vocab)\n",
        "print(output)"
      ],
      "execution_count": 100,
      "outputs": [
        {
          "output_type": "stream",
          "text": [
            "[1 0]\n"
          ],
          "name": "stdout"
        }
      ]
    },
    {
      "cell_type": "code",
      "metadata": {
        "id": "uHeIG43qyww5"
      },
      "source": [
        ""
      ],
      "execution_count": 100,
      "outputs": []
    },
    {
      "cell_type": "code",
      "metadata": {
        "id": "HfrGSKtoyw6l"
      },
      "source": [
        ""
      ],
      "execution_count": 100,
      "outputs": []
    },
    {
      "cell_type": "code",
      "metadata": {
        "id": "f2SfpbJUyw_T"
      },
      "source": [
        ""
      ],
      "execution_count": 100,
      "outputs": []
    },
    {
      "cell_type": "code",
      "metadata": {
        "id": "6iGnJPo6m-b3"
      },
      "source": [
        ""
      ],
      "execution_count": 30,
      "outputs": []
    },
    {
      "cell_type": "code",
      "metadata": {
        "id": "RlHzGoAinrqn"
      },
      "source": [
        ""
      ],
      "execution_count": 30,
      "outputs": []
    },
    {
      "cell_type": "code",
      "metadata": {
        "id": "GWXzDR2OqpDK"
      },
      "source": [
        ""
      ],
      "execution_count": null,
      "outputs": []
    },
    {
      "cell_type": "code",
      "metadata": {
        "id": "DaGQM8jKqv7_"
      },
      "source": [
        ""
      ],
      "execution_count": null,
      "outputs": []
    },
    {
      "cell_type": "code",
      "metadata": {
        "id": "2lxcWMGpvd-d"
      },
      "source": [
        ""
      ],
      "execution_count": null,
      "outputs": []
    }
  ]
}