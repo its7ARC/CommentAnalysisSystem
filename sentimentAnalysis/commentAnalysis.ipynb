{
  "nbformat": 4,
  "nbformat_minor": 0,
  "metadata": {
    "colab": {
      "name": "commentAnalysis.ipynb",
      "provenance": [],
      "collapsed_sections": []
    },
    "kernelspec": {
      "name": "python3",
      "display_name": "Python 3"
    }
  },
  "cells": [
    {
      "cell_type": "markdown",
      "metadata": {
        "id": "fKg5eVEmiSGh"
      },
      "source": [
        "Sentiment Model Training"
      ]
    },
    {
      "cell_type": "code",
      "metadata": {
        "id": "Fi2KQAtbcBIG"
      },
      "source": [
        "import numpy as np\n",
        "import matplotlib.pyplot as plt"
      ],
      "execution_count": null,
      "outputs": []
    },
    {
      "cell_type": "code",
      "metadata": {
        "id": "sZKOwkqQcOYE"
      },
      "source": [
        "from tensorflow.keras.datasets import imdb"
      ],
      "execution_count": null,
      "outputs": []
    },
    {
      "cell_type": "code",
      "metadata": {
        "id": "UseYReNxcQhf"
      },
      "source": [
        "((XT,YT),(Xt,Yt)) = imdb.load_data()"
      ],
      "execution_count": null,
      "outputs": []
    },
    {
      "cell_type": "code",
      "metadata": {
        "id": "q1m7wkIocSLq",
        "outputId": "d99f6450-1b7e-462e-db3a-e3921aefb768",
        "colab": {
          "base_uri": "https://localhost:8080/"
        }
      },
      "source": [
        "word_idx = imdb.get_word_index()"
      ],
      "execution_count": null,
      "outputs": [
        {
          "output_type": "stream",
          "text": [
            "Downloading data from https://storage.googleapis.com/tensorflow/tf-keras-datasets/imdb_word_index.json\n",
            "1646592/1641221 [==============================] - 0s 0us/step\n"
          ],
          "name": "stdout"
        }
      ]
    },
    {
      "cell_type": "code",
      "metadata": {
        "id": "mEG01l50cUBb"
      },
      "source": [
        "idx_words = dict([value,key] for (key,value) in word_idx.items())\n",
        "#print(word_idx.items())"
      ],
      "execution_count": null,
      "outputs": []
    },
    {
      "cell_type": "code",
      "metadata": {
        "id": "C0bk7icvcWMs"
      },
      "source": [
        "actual_review = ' '.join(idx_words.get(idx-3,'?') for idx in Xt[3])\n",
        "#print(Xt[3])\n",
        "#print(actual_review)\n",
        "#print(XT[0])\n",
        "#print(Yt[3])"
      ],
      "execution_count": null,
      "outputs": []
    },
    {
      "cell_type": "code",
      "metadata": {
        "id": "TlU7A1YKjq4B",
        "outputId": "0a52c51c-8b76-42c5-b3ea-6c10c6251403",
        "colab": {
          "base_uri": "https://localhost:8080/"
        }
      },
      "source": [
        "#print(XT)\n",
        "print(type(XT))"
      ],
      "execution_count": null,
      "outputs": [
        {
          "output_type": "stream",
          "text": [
            "<class 'numpy.ndarray'>\n"
          ],
          "name": "stdout"
        }
      ]
    },
    {
      "cell_type": "code",
      "metadata": {
        "id": "dUnrRE2Qmj1l",
        "outputId": "a6dde345-0dd7-4147-e0b3-61f0253ad3f5",
        "colab": {
          "base_uri": "https://localhost:8080/"
        }
      },
      "source": [
        "#Imports\n",
        "#CountVectorizer\n",
        "from sklearn.feature_extraction.text import CountVectorizer\n",
        "\n",
        "#Vectorization\n",
        "from nltk.tokenize import RegexpTokenizer\n",
        "\n",
        "#stopwords\n",
        "import nltk\n",
        "nltk.download('stopwords')\n",
        "from nltk.corpus import stopwords\n",
        "\n",
        "#SnowballStemmer\n",
        "from nltk.stem.snowball import SnowballStemmer"
      ],
      "execution_count": null,
      "outputs": [
        {
          "output_type": "stream",
          "text": [
            "[nltk_data] Downloading package stopwords to /root/nltk_data...\n",
            "[nltk_data]   Package stopwords is already up-to-date!\n"
          ],
          "name": "stdout"
        }
      ]
    },
    {
      "cell_type": "code",
      "metadata": {
        "id": "0T8xhBkY_Rbp"
      },
      "source": [
        "def stopwordRemoval(sen):\n",
        "  sw = (stopwords.words('english'))\n",
        "  useful = ['few','only','don',\"don't\",'not','but','if','until','or','while','by','about','against','below','above','up','down','off','again','when','both','no','such','nor',\"dont't\",'should',\"should've\"]\n",
        "  sw = sw[:142]\n",
        "  sw = [word for word in sw if word not in useful]\n",
        "  sen = [word.lower() for word in sen if word.lower() not in sw]\n",
        "  return sen\n",
        "\n",
        "def stem(sen):\n",
        "  ss = SnowballStemmer(language = ('english'))\n",
        "  sen = [ss.stem(word) for word in sen] \n",
        "  return sen\n",
        "\n",
        "#preprocessing on trainingData\n",
        "\n",
        "def vectorize(XT):                         #stopwordRemoval + Stemming + Vectorization\n",
        "  corpus = []\n",
        "  #Getting actual reviews \n",
        "  for i in XT:\n",
        "    sen = ' '.join(idx_words.get(idx-3,'?') for idx in i)\n",
        "    corpus.append(sen)\n",
        "  \n",
        "\n",
        "  tokenizer = RegexpTokenizer('[a-zA-Z\\']+')   \n",
        "  i = 0\n",
        "  #Tokenization + StopwordRemoval + Stemming\n",
        "  for sen in corpus:\n",
        "    sen = tokenizer.tokenize(sen) \n",
        "    sen = stopwordRemoval(sen)\n",
        "    #sen = stem(sen)\n",
        "    sen = ' '.join(word for word in sen)\n",
        "    corpus[i] = sen\n",
        "    i = i+1\n",
        "  \n",
        "  #Vectorization\n",
        "  cv = CountVectorizer(max_features = 10000)\n",
        "  vect = cv.fit_transform(corpus)\n",
        "  vocab = cv.vocabulary_\n",
        "  invVocab = dict(zip(vocab.values(), vocab.keys()))\n",
        "\n",
        "  #Making new XTrain\n",
        "  XVec = []\n",
        "  for i in corpus:\n",
        "    i = i.split()\n",
        "    item = [vocab.get(key) for key in i if vocab.get(key) != None]\n",
        "    XVec.append(item)\n",
        "\n",
        "  XVec = np.array(XVec)\n",
        "  return cv, XVec, vocab, invVocab\n"
      ],
      "execution_count": null,
      "outputs": []
    },
    {
      "cell_type": "code",
      "metadata": {
        "id": "iIcpgkW15uSw"
      },
      "source": [
        "cv,XT_,vocab,invVocab = vectorize(XT)\n",
        "#save vocab, invVocab"
      ],
      "execution_count": null,
      "outputs": []
    },
    {
      "cell_type": "code",
      "metadata": {
        "id": "bSItfU4y-DNe"
      },
      "source": [
        "#Preprocessing on testingData\n",
        "\n",
        "def preProcess(Xt,vocab):\n",
        "  corpus = []\n",
        "  #Getting actual reviews \n",
        "  for i in Xt:\n",
        "    sen = ' '.join(idx_words.get(idx-3,'?') for idx in i)\n",
        "    corpus.append(sen)\n",
        "  \n",
        "\n",
        "  tokenizer = RegexpTokenizer('[a-zA-Z\\']+')   \n",
        "  i = 0\n",
        "  #StopwordRemoval + Stemming\n",
        "  for sen in corpus:\n",
        "    sen = tokenizer.tokenize(sen) \n",
        "    sen = stopwordRemoval(sen)\n",
        "    #sen = stem(sen)\n",
        "    sen = ' '.join(word for word in sen)\n",
        "    corpus[i] = sen\n",
        "    i = i+1\n",
        "  \n",
        "  XVec = []\n",
        "  for i in corpus:\n",
        "    i = i.split()\n",
        "    item = [vocab.get(key) for key in i if vocab.get(key) != None]\n",
        "    XVec.append(item)\n",
        "\n",
        "\n",
        "  XVec = np.array(XVec)\n",
        "  return XVec\n"
      ],
      "execution_count": null,
      "outputs": []
    },
    {
      "cell_type": "code",
      "metadata": {
        "id": "24VRDI7EGwmg"
      },
      "source": [
        "Xt_ = preProcess(Xt,vocab)"
      ],
      "execution_count": null,
      "outputs": []
    },
    {
      "cell_type": "code",
      "metadata": {
        "id": "oh9cZYecQrv-"
      },
      "source": [
        "#print(XT_)\n",
        "#print(Xt_)\n",
        "#print(vocab)\n",
        "#print(invVocab)"
      ],
      "execution_count": null,
      "outputs": []
    },
    {
      "cell_type": "code",
      "metadata": {
        "id": "Yg5N-Jic5uY4",
        "outputId": "9c1b2531-28ba-44dc-f309-5f1cb5aceea2",
        "colab": {
          "base_uri": "https://localhost:8080/"
        }
      },
      "source": [
        "#saving voabulary\n",
        "filehandler = open('vocabFile.txt', 'wt')\n",
        "data = str(vocab)\n",
        "filehandler.write(data)"
      ],
      "execution_count": null,
      "outputs": [
        {
          "output_type": "execute_result",
          "data": {
            "text/plain": [
              "165946"
            ]
          },
          "metadata": {
            "tags": []
          },
          "execution_count": 16
        }
      ]
    },
    {
      "cell_type": "code",
      "metadata": {
        "id": "UZmpw_XqowKN"
      },
      "source": [
        ""
      ],
      "execution_count": null,
      "outputs": []
    },
    {
      "cell_type": "code",
      "metadata": {
        "id": "BKLxCyJ-cZei"
      },
      "source": [
        ""
      ],
      "execution_count": null,
      "outputs": []
    },
    {
      "cell_type": "code",
      "metadata": {
        "id": "IVWeZ2zQMyuy"
      },
      "source": [
        "import matplotlib.pyplot as plt"
      ],
      "execution_count": null,
      "outputs": []
    },
    {
      "cell_type": "code",
      "metadata": {
        "id": "EV1bJXC_ccM9",
        "outputId": "b5a5a29e-7da4-4488-fc4f-08a53ced6e08",
        "colab": {
          "base_uri": "https://localhost:8080/",
          "height": 351
        }
      },
      "source": [
        "length = []\n",
        "l = 0\n",
        "i = 0\n",
        "for vect in XT_:\n",
        "  l += len(vect)\n",
        "  length.append(len(vect))\n",
        "  i += 1\n",
        "print(l/i)\n",
        "plt.hist(length,range = (0,500),rwidth = 0.9)"
      ],
      "execution_count": null,
      "outputs": [
        {
          "output_type": "stream",
          "text": [
            "119.7056\n"
          ],
          "name": "stdout"
        },
        {
          "output_type": "execute_result",
          "data": {
            "text/plain": [
              "(array([ 2740., 11407.,  4808.,  2510.,  1379.,   845.,   498.,   308.,\n",
              "          237.,   183.]),\n",
              " array([  0.,  50., 100., 150., 200., 250., 300., 350., 400., 450., 500.]),\n",
              " <a list of 10 Patch objects>)"
            ]
          },
          "metadata": {
            "tags": []
          },
          "execution_count": 20
        },
        {
          "output_type": "display_data",
          "data": {
            "image/png": "[encoded data removed]",
            "text/plain": [
              "<Figure size 432x288 with 1 Axes>"
            ]
          },
          "metadata": {
            "tags": [],
            "needs_background": "light"
          }
        }
      ]
    },
    {
      "cell_type": "code",
      "metadata": {
        "id": "vPr3GzPXOw-n"
      },
      "source": [
        "from tensorflow.keras.preprocessing import sequence\n",
        "X_train = sequence.pad_sequences(XT_,maxlen = 500)\n",
        "X_test = sequence.pad_sequences(Xt_, maxlen = 500)"
      ],
      "execution_count": null,
      "outputs": []
    },
    {
      "cell_type": "code",
      "metadata": {
        "id": "0MRrBtisIeKG"
      },
      "source": [
        "from keras.utils import to_categorical\n",
        "YT_ = to_categorical(YT)\n",
        "Yt_ = to_categorical(Yt)"
      ],
      "execution_count": null,
      "outputs": []
    },
    {
      "cell_type": "code",
      "metadata": {
        "id": "cvrCJglPH70Y"
      },
      "source": [
        "\n"
      ],
      "execution_count": null,
      "outputs": []
    },
    {
      "cell_type": "code",
      "metadata": {
        "id": "qilvjPTIcePE"
      },
      "source": [
        "from keras.models import Sequential\n",
        "from keras.layers import Embedding, Dense, LSTM, Dropout, Conv1D"
      ],
      "execution_count": null,
      "outputs": []
    },
    {
      "cell_type": "code",
      "metadata": {
        "id": "AZWVn6iwcf2E",
        "outputId": "8de189c2-900e-4cb0-e2e1-e8b8fb327877",
        "colab": {
          "base_uri": "https://localhost:8080/"
        }
      },
      "source": [
        "model = Sequential()\n",
        "model.add(Embedding(10000,64))\n",
        "model.add(LSTM(32))\n",
        "model.add(Dropout(0.4))\n",
        "model.add(Dense(2,activation = 'sigmoid'))\n",
        "model.summary()"
      ],
      "execution_count": null,
      "outputs": [
        {
          "output_type": "stream",
          "text": [
            "Model: \"sequential\"\n",
            "_________________________________________________________________\n",
            "Layer (type)                 Output Shape              Param #   \n",
            "=================================================================\n",
            "embedding (Embedding)        (None, None, 64)          640000    \n",
            "_________________________________________________________________\n",
            "lstm (LSTM)                  (None, 32)                12416     \n",
            "_________________________________________________________________\n",
            "dropout (Dropout)            (None, 32)                0         \n",
            "_________________________________________________________________\n",
            "dense (Dense)                (None, 2)                 66        \n",
            "=================================================================\n",
            "Total params: 652,482\n",
            "Trainable params: 652,482\n",
            "Non-trainable params: 0\n",
            "_________________________________________________________________\n"
          ],
          "name": "stdout"
        }
      ]
    },
    {
      "cell_type": "code",
      "metadata": {
        "id": "ZlwkM2ZCch4I",
        "outputId": "0a2c07b1-0234-41da-d8a5-8106b70147a5",
        "colab": {
          "base_uri": "https://localhost:8080/"
        }
      },
      "source": [
        "#Compiling model\n",
        "model.compile(optimizer = \"RMSProp\", loss = 'categorical_crossentropy', metrics = ['acc'])\n",
        "#For saving only the best weights for val_acc\n",
        "from keras.callbacks import ModelCheckpoint\n",
        "checkpoint = ModelCheckpoint(\"sentimentModel.h5\",monitor = 'val_loss',verbose = 0,save_best_only = True,save_weights_only = False, mode = 'auto',period = 1)\n",
        "#Early stopping is also an option\n",
        "from keras.callbacks import EarlyStopping\n",
        "earlyStop = EarlyStopping(monitor = 'val_acc',patience = 3)"
      ],
      "execution_count": null,
      "outputs": [
        {
          "output_type": "stream",
          "text": [
            "WARNING:tensorflow:`period` argument is deprecated. Please use `save_freq` to specify the frequency in number of batches seen.\n"
          ],
          "name": "stdout"
        }
      ]
    },
    {
      "cell_type": "code",
      "metadata": {
        "id": "AvdpJgvFcjnm",
        "outputId": "9b53ff67-4f79-4500-c071-89bc020c7a54",
        "colab": {
          "base_uri": "https://localhost:8080/"
        }
      },
      "source": [
        "hist = model.fit(X_train,YT_, validation_split = 0.1, epochs = 10, batch_size = 256, callbacks = [checkpoint, earlyStop])"
      ],
      "execution_count": null,
      "outputs": [
        {
          "output_type": "stream",
          "text": [
            "Epoch 1/10\n",
            "88/88 [==============================] - 10s 116ms/step - loss: 0.4748 - acc: 0.7950 - val_loss: 0.4357 - val_acc: 0.8332\n",
            "Epoch 2/10\n",
            "88/88 [==============================] - 9s 108ms/step - loss: 0.2714 - acc: 0.9010 - val_loss: 0.3154 - val_acc: 0.8852\n",
            "Epoch 3/10\n",
            "88/88 [==============================] - 9s 105ms/step - loss: 0.2101 - acc: 0.9266 - val_loss: 0.2904 - val_acc: 0.8836\n",
            "Epoch 4/10\n",
            "88/88 [==============================] - 9s 104ms/step - loss: 0.1751 - acc: 0.9383 - val_loss: 0.3111 - val_acc: 0.8844\n",
            "Epoch 5/10\n",
            "88/88 [==============================] - 9s 105ms/step - loss: 0.1514 - acc: 0.9479 - val_loss: 0.3266 - val_acc: 0.8772\n"
          ],
          "name": "stdout"
        }
      ]
    },
    {
      "cell_type": "code",
      "metadata": {
        "id": "GdtgTntjcoEr"
      },
      "source": [
        "acc = hist.history['acc']\n",
        "loss = hist.history['loss']\n",
        "val_acc = hist.history['val_acc']\n",
        "val_loss = hist.history['val_loss']"
      ],
      "execution_count": null,
      "outputs": []
    },
    {
      "cell_type": "code",
      "metadata": {
        "id": "4x2hxBJAeXTC",
        "outputId": "4e67a947-9285-49b1-f7af-ead33bfdf7ca",
        "colab": {
          "base_uri": "https://localhost:8080/",
          "height": 400
        }
      },
      "source": [
        "plt.style.use(\"seaborn\")\n",
        "fig = plt.figure()\n",
        "fig.suptitle('Accuracy')\n",
        "plt.xlabel('Epoch')\n",
        "plt.ylabel('Accuracy')\n",
        "plt.plot(acc,label = 'training_acc')\n",
        "plt.plot(val_acc, label = 'val_acc')\n",
        "plt.show()"
      ],
      "execution_count": null,
      "outputs": [
        {
          "output_type": "display_data",
          "data": {
            "image/png": "[encoded data removed]",
            "text/plain": [
              "<Figure size 576x396 with 1 Axes>"
            ]
          },
          "metadata": {
            "tags": []
          }
        }
      ]
    },
    {
      "cell_type": "code",
      "metadata": {
        "id": "451Bjq87eaJg"
      },
      "source": [
        "model.save('sentimentModel.h5')"
      ],
      "execution_count": null,
      "outputs": []
    },
    {
      "cell_type": "code",
      "metadata": {
        "id": "HVIZG4k8JgQz"
      },
      "source": [
        "import tensorflow as tf"
      ],
      "execution_count": null,
      "outputs": []
    },
    {
      "cell_type": "code",
      "metadata": {
        "id": "K_p8fpWCVTad",
        "outputId": "c9acf4cc-16b6-480e-bd5f-9c5d9d3dac05",
        "colab": {
          "base_uri": "https://localhost:8080/"
        }
      },
      "source": [
        "loss, acc = model.evaluate(X_test,Yt_)"
      ],
      "execution_count": null,
      "outputs": [
        {
          "output_type": "stream",
          "text": [
            "782/782 [==============================] - 24s 30ms/step - loss: 0.3554 - acc: 0.8656\n"
          ],
          "name": "stdout"
        }
      ]
    },
    {
      "cell_type": "code",
      "metadata": {
        "id": "bWyUJaIvN_uL"
      },
      "source": [
        "pred = np.argmax(model.predict(X_test),axis = 1)"
      ],
      "execution_count": null,
      "outputs": []
    },
    {
      "cell_type": "code",
      "metadata": {
        "id": "Ecdri26BH7m9"
      },
      "source": [
        ""
      ],
      "execution_count": null,
      "outputs": []
    },
    {
      "cell_type": "code",
      "metadata": {
        "id": "KzwWV6BkH9Mi"
      },
      "source": [
        ""
      ],
      "execution_count": null,
      "outputs": []
    },
    {
      "cell_type": "code",
      "metadata": {
        "id": "7DThGFtpH9R1"
      },
      "source": [
        ""
      ],
      "execution_count": null,
      "outputs": []
    },
    {
      "cell_type": "markdown",
      "metadata": {
        "id": "A3GJgeg448Ts"
      },
      "source": [
        "Calculating Expected time of computaion per comment\n",
        "\n",
        "\n"
      ]
    },
    {
      "cell_type": "code",
      "metadata": {
        "id": "oxHLCS60iMoo"
      },
      "source": [
        "def computationTime(n):\n",
        "    X_Vec = X_test[0:n]\n",
        "    out = np.argmax(model.predict(X_Vec),axis = 1)\n",
        "    print(out)\n",
        "    return "
      ],
      "execution_count": null,
      "outputs": []
    },
    {
      "cell_type": "code",
      "metadata": {
        "id": "YrAycAxsiMbY"
      },
      "source": [
        "#time observed with stopwatch\n",
        "#computationTime(1) -> 1.48sec\n",
        "#computationTime(50) -> 1.49sec\n",
        "#computationTime(100) -> 1.50sec\n",
        "#computationTime(500) -> 1.52sec\n",
        "#computationTime(1000) -> 1.72sec\n",
        "#computationTime(2000) -> 1.89sec\n",
        "#computationTime(5000) -> 2.42ssc\n",
        "#computationTime(10000) -> 4.33sec\n",
        "#computationTime(20000) -> 6.94sec"
      ],
      "execution_count": null,
      "outputs": []
    },
    {
      "cell_type": "code",
      "metadata": {
        "id": "7gRK3yIliMSa"
      },
      "source": [
        ""
      ],
      "execution_count": null,
      "outputs": []
    },
    {
      "cell_type": "code",
      "metadata": {
        "id": "dktgJTTHiLzm"
      },
      "source": [
        ""
      ],
      "execution_count": null,
      "outputs": []
    },
    {
      "cell_type": "code",
      "metadata": {
        "id": "YRVDDfE4yxEC"
      },
      "source": [
        "import numpy as np\n",
        "import matplotlib.pyplot as plt"
      ],
      "execution_count": 35,
      "outputs": []
    },
    {
      "cell_type": "markdown",
      "metadata": {
        "id": "S3fBOnwhFSnn"
      },
      "source": [
        "Single Server Queuing System (for analysis of model Perfomance)"
      ]
    },
    {
      "cell_type": "code",
      "metadata": {
        "id": "W4r-F2o1HUBe"
      },
      "source": [
        "class StateVariables:\n",
        "    def __init__(self):\n",
        "        self.serverStatus = 0\n",
        "        self.numberInQueue = 0\n",
        "        self.timeOfArrival = []\n",
        "        self.lastEvent = 0\n",
        "\n",
        "class StatisticalCounters:\n",
        "    def __init__(self):\n",
        "        self.numberDelayed = 0\n",
        "        self.totalDelay = 0\n",
        "        self.areaQ = 0\n",
        "        self.areaB = 0\n",
        "        self.Q = [[0, 0]]\n",
        "        self.B = [[0, 0]]\n",
        "\n",
        "class clock:\n",
        "    def __init__(self):\n",
        "        self.time = 0\n",
        "        self.eventList = [1,100]        #arrival(50 comments), departure\n",
        "\n",
        "\n",
        "def libraryRoutine(c):\n",
        "    time = c.time\n",
        "    if (time - time.astype(int)) == 0:\n",
        "        return time+1\n",
        "    else:\n",
        "        return time.astype(int) + 1\n",
        "\n",
        "def initialisationRoutine():\n",
        "    sv = StateVariables()\n",
        "    sc = StatisticalCounters()\n",
        "    c = clock()\n",
        "    return sv,sc,c\n",
        "\n",
        "\n",
        "def timingRoutine(c):\n",
        "    el = c.eventList\n",
        "    c.time = np.min(el)\n",
        "    return c.time, np.argmin(el)\n",
        "\n",
        "def eventRoutine(sv,sc,c,eventType):\n",
        "    sc.Q.append([sv.numberInQueue*50, c.time])\n",
        "    sc.B.append([sv.serverStatus, c.time])\n",
        "    if (sv.serverStatus == 1):\n",
        "        sc.areaB += (c.time - sv.lastEvent)\n",
        "    sc.areaQ += ((c.time - sv.lastEvent)*(sv.numberInQueue)*50)\n",
        "    \n",
        "    if (eventType == 1):\n",
        "        sv.serverStatus = 0\n",
        "        c.eventList[1] = 100\n",
        "\n",
        "    if (eventType == 0):\n",
        "        sv.numberInQueue += 1\n",
        "        sv.timeOfArrival.append(c.time)\n",
        "        c.eventList[0] = libraryRoutine(c)\n",
        "    \n",
        "    if (sv.serverStatus == 0 and sv.numberInQueue>=2):\n",
        "        \n",
        "        for t in sv.timeOfArrival:\n",
        "            sc.totalDelay += (c.time - t)*50\n",
        "        sc.numberDelayed += (sv.numberInQueue*50)\n",
        "        sv.serverStatus = 1\n",
        "        sc.B.append([1,c.time])\n",
        "        sv.numberInQueue = 0\n",
        "        sv.timeOfArrival = []\n",
        "        c.eventList[1] = c.time + 1.5\n",
        "\n",
        "    sc.Q.append([sv.numberInQueue*50, c.time])\n",
        "    sc.B.append([sv.serverStatus, c.time])\n",
        "    sv.lastEvent = c.time\n",
        "    return sv,sc,c\n",
        "\n",
        "\n",
        "def ssqs():\n",
        "    sv,sc,c = initialisationRoutine()\n",
        "    while (sc.numberDelayed < 1000):\n",
        "        nextEvent, eventType = timingRoutine(c)\n",
        "        sv,sc,c = eventRoutine(sv,sc,c,eventType)\n",
        "    \n",
        "    Qn = sc.areaQ/c.time\n",
        "    Bn = sc.areaB/c.time\n",
        "    avgDelay = sc.totalDelay/sc.numberDelayed\n",
        "    Q = sc.Q\n",
        "    B = sc.B\n",
        "    return sc.numberDelayed, avgDelay, Qn, Bn, Q, B\n"
      ],
      "execution_count": 54,
      "outputs": []
    },
    {
      "cell_type": "code",
      "metadata": {
        "id": "vY6AeN68k23M"
      },
      "source": [
        "numberDelayed, avgDelay, Qn, Bn, Q, B = ssqs()"
      ],
      "execution_count": 55,
      "outputs": []
    },
    {
      "cell_type": "code",
      "metadata": {
        "id": "1dey3e9sHjpq",
        "outputId": "40b6c1d9-3e50-4490-cc4c-76e2acfd6a37",
        "colab": {
          "base_uri": "https://localhost:8080/"
        }
      },
      "source": [
        "print(numberDelayed, avgDelay, Qn, Bn)"
      ],
      "execution_count": 56,
      "outputs": [
        {
          "output_type": "stream",
          "text": [
            "1000 0.5 25.0 0.675\n"
          ],
          "name": "stdout"
        }
      ]
    },
    {
      "cell_type": "code",
      "metadata": {
        "id": "LPVIjmoEHj-C"
      },
      "source": [
        "#Quiet good a perfomance for a server with traffic of 50 comments/second"
      ],
      "execution_count": 57,
      "outputs": []
    },
    {
      "cell_type": "markdown",
      "metadata": {
        "id": "CHhciEgkHkFp"
      },
      "source": [
        "Plotting Q(t) and B(t)"
      ]
    },
    {
      "cell_type": "code",
      "metadata": {
        "id": "BUFNNVSlHkKM",
        "outputId": "c193a825-4859-4565-8933-f562debcf041",
        "colab": {
          "base_uri": "https://localhost:8080/",
          "height": 783
        }
      },
      "source": [
        "Qq = []\n",
        "Qt = []\n",
        "Bb = []\n",
        "Bt = []\n",
        "\n",
        "i = 0\n",
        "for q in Q:\n",
        "    Qt.append(q[1])\n",
        "    Qq.append(q[0])\n",
        "    i+=1\n",
        "\n",
        "i = 0\n",
        "for b in B:\n",
        "    Bt.append(b[1])\n",
        "    Bb.append(b[0])\n",
        "    i+=1\n",
        "\n",
        "plt.style.use('seaborn')\n",
        "fig = plt.figure()\n",
        "fig.suptitle('Q(t)')\n",
        "plt.xlabel('t')\n",
        "plt.ylabel('Q')\n",
        "plt.plot(Qt, Qq)\n",
        "plt.show()\n",
        "fig = plt.figure()\n",
        "fig.suptitle('B(t)')\n",
        "plt.xlabel('t')\n",
        "plt.ylabel('B')\n",
        "plt.plot(Bt, Bb)\n",
        "plt.show()"
      ],
      "execution_count": 60,
      "outputs": [
        {
          "output_type": "display_data",
          "data": {
            "image/png": "[encoded data removed]",
            "text/plain": [
              "<Figure size 576x396 with 1 Axes>"
            ]
          },
          "metadata": {
            "tags": []
          }
        },
        {
          "output_type": "display_data",
          "data": {
            "image/png": "[encoded data removed]",
            "text/plain": [
              "<Figure size 576x396 with 1 Axes>"
            ]
          },
          "metadata": {
            "tags": []
          }
        }
      ]
    },
    {
      "cell_type": "code",
      "metadata": {
        "id": "J_7-cCRN4Hdx"
      },
      "source": [
        ""
      ],
      "execution_count": 48,
      "outputs": []
    },
    {
      "cell_type": "code",
      "metadata": {
        "id": "rcHEZUFo4Hk_"
      },
      "source": [
        ""
      ],
      "execution_count": 47,
      "outputs": []
    },
    {
      "cell_type": "code",
      "metadata": {
        "id": "X6RT31AJ4Hov"
      },
      "source": [
        ""
      ],
      "execution_count": null,
      "outputs": []
    },
    {
      "cell_type": "code",
      "metadata": {
        "id": "94yK_UMi4Huh"
      },
      "source": [
        ""
      ],
      "execution_count": null,
      "outputs": []
    },
    {
      "cell_type": "code",
      "metadata": {
        "id": "Bt_mGs9L4Hsn"
      },
      "source": [
        ""
      ],
      "execution_count": null,
      "outputs": []
    },
    {
      "cell_type": "code",
      "metadata": {
        "id": "F6muWmOc4FuT"
      },
      "source": [
        ""
      ],
      "execution_count": null,
      "outputs": []
    },
    {
      "cell_type": "code",
      "metadata": {
        "id": "-6Y6w55DHkPR"
      },
      "source": [
        ""
      ],
      "execution_count": null,
      "outputs": []
    },
    {
      "cell_type": "markdown",
      "metadata": {
        "id": "yBhPszQTighN"
      },
      "source": [
        "Overall Model Deployment"
      ]
    },
    {
      "cell_type": "code",
      "metadata": {
        "id": "8lg1s7AhEa_E"
      },
      "source": [
        "import numpy as np\n",
        "import matplotlib.pyplot as plt"
      ],
      "execution_count": null,
      "outputs": []
    },
    {
      "cell_type": "code",
      "metadata": {
        "id": "TCFNBKA1oJvD"
      },
      "source": [
        "#loadingModel"
      ],
      "execution_count": null,
      "outputs": []
    },
    {
      "cell_type": "code",
      "metadata": {
        "id": "8Jp1oGjufAUt"
      },
      "source": [
        "from tensorflow.keras import models"
      ],
      "execution_count": null,
      "outputs": []
    },
    {
      "cell_type": "code",
      "metadata": {
        "id": "2XTXZC-LeGBZ"
      },
      "source": [
        "model = models.load_model('sentimentModel.h5')"
      ],
      "execution_count": null,
      "outputs": []
    },
    {
      "cell_type": "code",
      "metadata": {
        "id": "X-8lxKShu56o"
      },
      "source": [
        "import ast"
      ],
      "execution_count": null,
      "outputs": []
    },
    {
      "cell_type": "code",
      "metadata": {
        "id": "MkjXCm_UoMM0"
      },
      "source": [
        "#Importing vocabulary\n",
        "f = open('vocabFile.txt', 'r') \n",
        "vocab = f.read()\n",
        "vocab = ast.literal_eval(vocab)"
      ],
      "execution_count": null,
      "outputs": []
    },
    {
      "cell_type": "code",
      "metadata": {
        "id": "edH1dw4upOOR"
      },
      "source": [
        "#print((vocab))"
      ],
      "execution_count": null,
      "outputs": []
    },
    {
      "cell_type": "code",
      "metadata": {
        "id": "mZQoinUZf-7j",
        "outputId": "fea42bb4-a967-4882-9de0-9bf2880c2270",
        "colab": {
          "base_uri": "https://localhost:8080/"
        }
      },
      "source": [
        "#Imports\n",
        "\n",
        "#Vectorization\n",
        "from nltk.tokenize import RegexpTokenizer\n",
        "\n",
        "#stopwords\n",
        "import nltk\n",
        "nltk.download('stopwords')\n",
        "from nltk.corpus import stopwords\n",
        "\n",
        "#SnowballStemmer\n",
        "from nltk.stem.snowball import SnowballStemmer\n",
        "\n",
        "#padding\n",
        "from tensorflow.keras.preprocessing import sequence"
      ],
      "execution_count": null,
      "outputs": [
        {
          "output_type": "stream",
          "text": [
            "[nltk_data] Downloading package stopwords to /root/nltk_data...\n",
            "[nltk_data]   Unzipping corpora/stopwords.zip.\n"
          ],
          "name": "stdout"
        }
      ]
    },
    {
      "cell_type": "code",
      "metadata": {
        "id": "QtWgAM2caQZd"
      },
      "source": [
        "def stopwordRemoval(sen):\n",
        "  sw = (stopwords.words('english'))\n",
        "  useful = ['few','only','don',\"don't\",'not','but','if','until','or','while','by','about','against','below','above','up','down','off','again','when','both','no','such','nor',\"dont't\",'should',\"should've\"]\n",
        "  sw = sw[:142]\n",
        "  sw = [word for word in sw if word not in useful]\n",
        "  sw += [\"cunt\", \"wank\", \"fuck\", \"bastard\", \"dick\", \"cock\", \"pussy\", \"twat\",\n",
        " \"tit\", \"bitch\", \"shit\", \"ass\", \"arse\", \"crap\", \"damn\", \"nigga\", \"nigger\", \n",
        " \"porn\", \"hooker\", \"whore\", \"hoe\", \"cooch\", \"slut\", \"fap\", \"jerk\", \"fag\", \n",
        " \"boob\", \"darn\"]\n",
        "  sen = [word.lower() for word in sen if word.lower() not in sw]\n",
        "  return sen\n",
        "\n",
        "def stem(sen):\n",
        "  ss = SnowballStemmer(language = ('english'))\n",
        "  sen = [ss.stem(word) for word in sen] \n",
        "  return sen"
      ],
      "execution_count": null,
      "outputs": []
    },
    {
      "cell_type": "code",
      "metadata": {
        "id": "M_IJNIWixXxt"
      },
      "source": [
        ""
      ],
      "execution_count": null,
      "outputs": []
    },
    {
      "cell_type": "code",
      "metadata": {
        "id": "nB0-MwNAbEd0"
      },
      "source": [
        "#Preprocessing on inputData\n",
        "\n",
        "def preProcessInput(corpus,vocab):\n",
        "  tokenizer = RegexpTokenizer('[a-zA-Z\\']+')   \n",
        "  i = 0\n",
        "  corpusCopy = corpus\n",
        "  #StopwordRemoval + Stemming\n",
        "  for sen in corpusCopy:\n",
        "    sen = tokenizer.tokenize(sen) \n",
        "    sen = stopwordRemoval(sen)\n",
        "    #sen = stem(sen)\n",
        "    corpus[i] = sen\n",
        "    i = i+1\n",
        "  \n",
        "  XVec = []\n",
        "  for i in corpusCopy:\n",
        "    item = [vocab.get(key) for key in i if vocab.get(key) != None]\n",
        "    XVec.append(item)\n",
        "\n",
        "\n",
        "  XVec = np.array(XVec)\n",
        "  XVec = sequence.pad_sequences(XVec,maxlen = 500)\n",
        "  corpus = []\n",
        "  return XVec"
      ],
      "execution_count": null,
      "outputs": []
    },
    {
      "cell_type": "code",
      "metadata": {
        "id": "AT5qJTjGoPc8",
        "outputId": "f562a01f-17b8-41eb-e996-e1e04bd90e97",
        "colab": {
          "base_uri": "https://localhost:8080/"
        }
      },
      "source": [
        "#Adding sentences to corpus (as they arrive on server)\n",
        "corpus = []\n",
        "testSen = \"He has sung it so beautifully. Amazing! They've done a great job\"\n",
        "corpus.append(testSen)\n",
        "testSen = \"Such a horrible post!\"\n",
        "corpus.append(testSen)\n",
        "print(corpus)"
      ],
      "execution_count": null,
      "outputs": [
        {
          "output_type": "stream",
          "text": [
            "[\"He has sung it so beautifully. Amazing! They've done a great job\", 'Such a horrible post!']\n"
          ],
          "name": "stdout"
        }
      ]
    },
    {
      "cell_type": "markdown",
      "metadata": {
        "id": "GOIrEUugyKdz"
      },
      "source": [
        "predictFunction"
      ]
    },
    {
      "cell_type": "code",
      "metadata": {
        "id": "uPLslNkoE8sL"
      },
      "source": [
        "def pred(corpus, vocab):\n",
        "    XVec = preProcessInput(corpus,vocab)\n",
        "    return np.argmax(model.predict(XVec),axis = 1)"
      ],
      "execution_count": null,
      "outputs": []
    },
    {
      "cell_type": "code",
      "metadata": {
        "id": "US5-NZxUfCFl",
        "outputId": "558af08e-7f89-417e-cb0d-2d94ee5648ba",
        "colab": {
          "base_uri": "https://localhost:8080/"
        }
      },
      "source": [
        "output = pred(corpus,vocab)\n",
        "print(output)"
      ],
      "execution_count": null,
      "outputs": [
        {
          "output_type": "stream",
          "text": [
            "[1 0]\n"
          ],
          "name": "stdout"
        }
      ]
    },
    {
      "cell_type": "code",
      "metadata": {
        "id": "uHeIG43qyww5"
      },
      "source": [
        ""
      ],
      "execution_count": null,
      "outputs": []
    },
    {
      "cell_type": "code",
      "metadata": {
        "id": "HfrGSKtoyw6l"
      },
      "source": [
        ""
      ],
      "execution_count": null,
      "outputs": []
    },
    {
      "cell_type": "code",
      "metadata": {
        "id": "f2SfpbJUyw_T"
      },
      "source": [
        ""
      ],
      "execution_count": null,
      "outputs": []
    },
    {
      "cell_type": "code",
      "metadata": {
        "id": "6iGnJPo6m-b3"
      },
      "source": [
        ""
      ],
      "execution_count": null,
      "outputs": []
    },
    {
      "cell_type": "code",
      "metadata": {
        "id": "RlHzGoAinrqn"
      },
      "source": [
        ""
      ],
      "execution_count": null,
      "outputs": []
    },
    {
      "cell_type": "code",
      "metadata": {
        "id": "GWXzDR2OqpDK"
      },
      "source": [
        ""
      ],
      "execution_count": null,
      "outputs": []
    },
    {
      "cell_type": "code",
      "metadata": {
        "id": "DaGQM8jKqv7_"
      },
      "source": [
        ""
      ],
      "execution_count": null,
      "outputs": []
    },
    {
      "cell_type": "code",
      "metadata": {
        "id": "2lxcWMGpvd-d"
      },
      "source": [
        ""
      ],
      "execution_count": null,
      "outputs": []
    }
  ]
}