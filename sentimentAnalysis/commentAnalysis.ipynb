{
 "cells": [
  {
   "cell_type": "markdown",
   "metadata": {
    "id": "fKg5eVEmiSGh"
   },
   "source": [
    "### Model Training"
   ]
  },
  {
   "cell_type": "code",
   "execution_count": 1,
   "metadata": {
    "id": "Fi2KQAtbcBIG"
   },
   "outputs": [],
   "source": [
    "import numpy as np\n",
    "import matplotlib.pyplot as plt"
   ]
  },
  {
   "cell_type": "code",
   "execution_count": 2,
   "metadata": {
    "id": "sZKOwkqQcOYE"
   },
   "outputs": [],
   "source": [
    "from tensorflow.keras.datasets import imdb"
   ]
  },
  {
   "cell_type": "code",
   "execution_count": 3,
   "metadata": {
    "colab": {
     "base_uri": "https://localhost:8080/"
    },
    "id": "UseYReNxcQhf",
    "outputId": "52fd3def-1672-435f-b0c0-ec4ba25f3a07"
   },
   "outputs": [
    {
     "name": "stdout",
     "output_type": "stream",
     "text": [
      "Downloading data from https://storage.googleapis.com/tensorflow/tf-keras-datasets/imdb.npz\n",
      "17465344/17464789 [==============================] - 1s 0us/step\n"
     ]
    }
   ],
   "source": [
    "((XT,YT),(Xt,Yt)) = imdb.load_data()"
   ]
  },
  {
   "cell_type": "code",
   "execution_count": 4,
   "metadata": {
    "colab": {
     "base_uri": "https://localhost:8080/"
    },
    "id": "q1m7wkIocSLq",
    "outputId": "da52f7f2-9c58-43c6-f5a5-1420cf4bd80d"
   },
   "outputs": [
    {
     "name": "stdout",
     "output_type": "stream",
     "text": [
      "Downloading data from https://storage.googleapis.com/tensorflow/tf-keras-datasets/imdb_word_index.json\n",
      "1646592/1641221 [==============================] - 0s 0us/step\n"
     ]
    }
   ],
   "source": [
    "word_idx = imdb.get_word_index()"
   ]
  },
  {
   "cell_type": "code",
   "execution_count": 5,
   "metadata": {
    "id": "mEG01l50cUBb"
   },
   "outputs": [],
   "source": [
    "idx_words = dict([value,key] for (key,value) in word_idx.items())"
   ]
  },
  {
   "cell_type": "code",
   "execution_count": 8,
   "metadata": {
    "id": "C0bk7icvcWMs"
   },
   "outputs": [],
   "source": [
    "actual_review = ' '.join(idx_words.get(idx-3,'?') for idx in Xt[3])"
   ]
  },
  {
   "cell_type": "code",
   "execution_count": 9,
   "metadata": {
    "colab": {
     "base_uri": "https://localhost:8080/"
    },
    "id": "TlU7A1YKjq4B",
    "outputId": "0d24e157-2ed8-4bbe-bea0-c59e4951757b"
   },
   "outputs": [
    {
     "name": "stdout",
     "output_type": "stream",
     "text": [
      "<class 'numpy.ndarray'>\n"
     ]
    }
   ],
   "source": [
    "print(type(XT))"
   ]
  },
  {
   "cell_type": "code",
   "execution_count": 10,
   "metadata": {
    "colab": {
     "base_uri": "https://localhost:8080/"
    },
    "id": "dUnrRE2Qmj1l",
    "outputId": "38c80521-000b-4692-c868-2550d4c25dd4"
   },
   "outputs": [
    {
     "name": "stdout",
     "output_type": "stream",
     "text": [
      "[nltk_data] Downloading package stopwords to /root/nltk_data...\n",
      "[nltk_data]   Unzipping corpora/stopwords.zip.\n"
     ]
    }
   ],
   "source": [
    "#Imports\n",
    "#CountVectorizer\n",
    "from sklearn.feature_extraction.text import CountVectorizer\n",
    "\n",
    "#Vectorization\n",
    "from nltk.tokenize import RegexpTokenizer\n",
    "\n",
    "#stopwords\n",
    "import nltk\n",
    "nltk.download('stopwords')\n",
    "from nltk.corpus import stopwords\n",
    "\n",
    "#SnowballStemmer\n",
    "from nltk.stem.snowball import SnowballStemmer"
   ]
  },
  {
   "cell_type": "code",
   "execution_count": 11,
   "metadata": {
    "id": "0T8xhBkY_Rbp"
   },
   "outputs": [],
   "source": [
    "def stopwordRemoval(sen):\n",
    "  sw = (stopwords.words('english'))\n",
    "  useful = ['few','only','don',\"don't\",'not','but','if','until','or','while','by','about','against','below','above','up','down','off','again','when','both','no','such','nor',\"dont't\",'should',\"should've\"]\n",
    "  sw = sw[:142]\n",
    "  sw = [word for word in sw if word not in useful]\n",
    "  sen = [word.lower() for word in sen if word.lower() not in sw]\n",
    "  return sen\n",
    "\n",
    "def stem(sen):\n",
    "  ss = SnowballStemmer(language = ('english'))\n",
    "  sen = [ss.stem(word) for word in sen] \n",
    "  return sen\n",
    "\n",
    "#preprocessing on trainingData\n",
    "\n",
    "def vectorize(XT):                         #stopwordRemoval + Stemming + Vectorization\n",
    "  corpus = []\n",
    "  #Getting actual reviews \n",
    "  for i in XT:\n",
    "    sen = ' '.join(idx_words.get(idx-3,'?') for idx in i)\n",
    "    corpus.append(sen)\n",
    "  \n",
    "\n",
    "  tokenizer = RegexpTokenizer('[a-zA-Z\\']+')   \n",
    "  i = 0\n",
    "  #Tokenization + StopwordRemoval + Stemming\n",
    "  for sen in corpus:\n",
    "    sen = tokenizer.tokenize(sen) \n",
    "    sen = stopwordRemoval(sen)\n",
    "    sen = stem(sen)\n",
    "    sen = ' '.join(word for word in sen)\n",
    "    corpus[i] = sen\n",
    "    i = i+1\n",
    "  \n",
    "  #Vectorization\n",
    "  cv = CountVectorizer(max_features = 10000)\n",
    "  vect = cv.fit_transform(corpus)\n",
    "  vocab = cv.vocabulary_\n",
    "  invVocab = dict(zip(vocab.values(), vocab.keys()))\n",
    "\n",
    "  #Making new XTrain after preprocessing\n",
    "  XVec = []\n",
    "  for i in corpus:\n",
    "    i = i.split()\n",
    "    item = [vocab.get(key) for key in i if vocab.get(key) != None]\n",
    "    XVec.append(item)\n",
    "\n",
    "  XVec = np.array(XVec)\n",
    "  return cv, XVec, vocab, invVocab\n"
   ]
  },
  {
   "cell_type": "code",
   "execution_count": 12,
   "metadata": {
    "id": "iIcpgkW15uSw"
   },
   "outputs": [],
   "source": [
    "cv,XT_,vocab,invVocab = vectorize(XT)\n",
    "#save vocab, invVocab"
   ]
  },
  {
   "cell_type": "code",
   "execution_count": 13,
   "metadata": {
    "id": "bSItfU4y-DNe"
   },
   "outputs": [],
   "source": [
    "#Preprocessing on testingData\n",
    "\n",
    "def preProcess(Xt,vocab):\n",
    "  corpus = []\n",
    "  #Getting actual reviews \n",
    "  for i in Xt:\n",
    "    sen = ' '.join(idx_words.get(idx-3,'?') for idx in i)\n",
    "    corpus.append(sen)\n",
    "  \n",
    "\n",
    "  tokenizer = RegexpTokenizer('[a-zA-Z\\']+')   \n",
    "  i = 0\n",
    "  #StopwordRemoval + Stemming\n",
    "  for sen in corpus:\n",
    "    sen = tokenizer.tokenize(sen) \n",
    "    sen = stopwordRemoval(sen)\n",
    "    #sen = stem(sen)\n",
    "    sen = ' '.join(word for word in sen)\n",
    "    corpus[i] = sen\n",
    "    i = i+1\n",
    "  \n",
    "  XVec = []\n",
    "  for i in corpus:\n",
    "    i = i.split()\n",
    "    item = [vocab.get(key) for key in i if vocab.get(key) != None]\n",
    "    XVec.append(item)\n",
    "\n",
    "\n",
    "  XVec = np.array(XVec)\n",
    "  return XVec\n"
   ]
  },
  {
   "cell_type": "code",
   "execution_count": 14,
   "metadata": {
    "id": "24VRDI7EGwmg"
   },
   "outputs": [],
   "source": [
    "#Call for testingData preprocessing\n",
    "Xt_ = preProcess(Xt,vocab)"
   ]
  },
  {
   "cell_type": "code",
   "execution_count": 15,
   "metadata": {
    "id": "oh9cZYecQrv-"
   },
   "outputs": [],
   "source": []
  },
  {
   "cell_type": "code",
   "execution_count": 16,
   "metadata": {
    "colab": {
     "base_uri": "https://localhost:8080/"
    },
    "id": "Yg5N-Jic5uY4",
    "outputId": "9c1b2531-28ba-44dc-f309-5f1cb5aceea2"
   },
   "outputs": [
    {
     "data": {
      "text/plain": [
       "165946"
      ]
     },
     "execution_count": 16,
     "metadata": {
      "tags": []
     },
     "output_type": "execute_result"
    }
   ],
   "source": [
    "#saving voabulary(size : 10000)\n",
    "filehandler = open('vocabFile.txt', 'wt')\n",
    "data = str(vocab)\n",
    "filehandler.write(data)"
   ]
  },
  {
   "cell_type": "code",
   "execution_count": 16,
   "metadata": {
    "id": "UZmpw_XqowKN"
   },
   "outputs": [],
   "source": []
  },
  {
   "cell_type": "code",
   "execution_count": 18,
   "metadata": {
    "id": "0K1yRUYL5ung"
   },
   "outputs": [],
   "source": []
  },
  {
   "cell_type": "markdown",
   "metadata": {
    "id": "BKLxCyJ-cZei"
   },
   "source": [
    "##### Getting estimate of length of sentences"
   ]
  },
  {
   "cell_type": "code",
   "execution_count": 19,
   "metadata": {
    "id": "IVWeZ2zQMyuy"
   },
   "outputs": [],
   "source": [
    "import matplotlib.pyplot as plt"
   ]
  },
  {
   "cell_type": "code",
   "execution_count": 20,
   "metadata": {
    "colab": {
     "base_uri": "https://localhost:8080/",
     "height": 351
    },
    "id": "EV1bJXC_ccM9",
    "outputId": "b5a5a29e-7da4-4488-fc4f-08a53ced6e08"
   },
   "outputs": [
    {
     "name": "stdout",
     "output_type": "stream",
     "text": [
      "119.7056\n"
     ]
    },
    {
     "data": {
      "text/plain": [
       "(array([ 2740., 11407.,  4808.,  2510.,  1379.,   845.,   498.,   308.,\n",
       "          237.,   183.]),\n",
       " array([  0.,  50., 100., 150., 200., 250., 300., 350., 400., 450., 500.]),\n",
       " <a list of 10 Patch objects>)"
      ]
     },
     "execution_count": 20,
     "metadata": {
      "tags": []
     },
     "output_type": "execute_result"
    },
    {
     "data": {
      "image/png": "[encoded data removed]",
      "text/plain": [
       "<Figure size 432x288 with 1 Axes>"
      ]
     },
     "metadata": {
      "needs_background": "light",
      "tags": []
     },
     "output_type": "display_data"
    }
   ],
   "source": [
    "length = []\n",
    "l = 0\n",
    "i = 0\n",
    "for vect in XT_:\n",
    "  l += len(vect)\n",
    "  length.append(len(vect))\n",
    "  i += 1\n",
    "print(l/i)\n",
    "plt.hist(length,range = (0,500),rwidth = 0.9)"
   ]
  },
  {
   "cell_type": "markdown",
   "metadata": {},
   "source": [
    "##### Padding sentences to a max length of 500"
   ]
  },
  {
   "cell_type": "code",
   "execution_count": 21,
   "metadata": {
    "id": "vPr3GzPXOw-n"
   },
   "outputs": [],
   "source": [
    "from tensorflow.keras.preprocessing import sequence\n",
    "X_train = sequence.pad_sequences(XT_,maxlen = 500)\n",
    "X_test = sequence.pad_sequences(Xt_, maxlen = 500)"
   ]
  },
  {
   "cell_type": "code",
   "execution_count": 22,
   "metadata": {
    "id": "0MRrBtisIeKG"
   },
   "outputs": [],
   "source": [
    "from keras.utils import to_categorical\n",
    "YT_ = to_categorical(YT)\n",
    "Yt_ = to_categorical(Yt)"
   ]
  },
  {
   "cell_type": "code",
   "execution_count": 23,
   "metadata": {
    "id": "cvrCJglPH70Y"
   },
   "outputs": [],
   "source": []
  },
  {
   "cell_type": "markdown",
   "metadata": {},
   "source": [
    "#### Making Neural Network model"
   ]
  },
  {
   "cell_type": "code",
   "execution_count": 24,
   "metadata": {
    "id": "qilvjPTIcePE"
   },
   "outputs": [],
   "source": [
    "from keras.models import Sequential\n",
    "from keras.layers import Embedding, Dense, LSTM, Dropout, Conv1D"
   ]
  },
  {
   "cell_type": "code",
   "execution_count": 25,
   "metadata": {
    "colab": {
     "base_uri": "https://localhost:8080/"
    },
    "id": "AZWVn6iwcf2E",
    "outputId": "8de189c2-900e-4cb0-e2e1-e8b8fb327877"
   },
   "outputs": [
    {
     "name": "stdout",
     "output_type": "stream",
     "text": [
      "Model: \"sequential\"\n",
      "_________________________________________________________________\n",
      "Layer (type)                 Output Shape              Param #   \n",
      "=================================================================\n",
      "embedding (Embedding)        (None, None, 64)          640000    \n",
      "_________________________________________________________________\n",
      "lstm (LSTM)                  (None, 32)                12416     \n",
      "_________________________________________________________________\n",
      "dropout (Dropout)            (None, 32)                0         \n",
      "_________________________________________________________________\n",
      "dense (Dense)                (None, 2)                 66        \n",
      "=================================================================\n",
      "Total params: 652,482\n",
      "Trainable params: 652,482\n",
      "Non-trainable params: 0\n",
      "_________________________________________________________________\n"
     ]
    }
   ],
   "source": [
    "model = Sequential()\n",
    "model.add(Embedding(10000,64))\n",
    "model.add(LSTM(32))\n",
    "model.add(Dropout(0.4))\n",
    "model.add(Dense(2,activation = 'sigmoid'))\n",
    "model.summary()"
   ]
  },
  {
   "cell_type": "code",
   "execution_count": 26,
   "metadata": {
    "colab": {
     "base_uri": "https://localhost:8080/"
    },
    "id": "ZlwkM2ZCch4I",
    "outputId": "0a2c07b1-0234-41da-d8a5-8106b70147a5"
   },
   "outputs": [
    {
     "name": "stdout",
     "output_type": "stream",
     "text": [
      "WARNING:tensorflow:`period` argument is deprecated. Please use `save_freq` to specify the frequency in number of batches seen.\n"
     ]
    }
   ],
   "source": [
    "#Compiling model\n",
    "model.compile(optimizer = \"RMSProp\", loss = 'categorical_crossentropy', metrics = ['acc'])\n",
    "#For saving only the best weights for val_acc\n",
    "from keras.callbacks import ModelCheckpoint\n",
    "checkpoint = ModelCheckpoint(\"sentimentModel.h5\",monitor = 'val_loss',verbose = 0,save_best_only = True,save_weights_only = False, mode = 'auto',period = 1)\n",
    "#Early stopping \n",
    "from keras.callbacks import EarlyStopping\n",
    "earlyStop = EarlyStopping(monitor = 'val_acc',patience = 3)"
   ]
  },
  {
   "cell_type": "code",
   "execution_count": 27,
   "metadata": {
    "colab": {
     "base_uri": "https://localhost:8080/"
    },
    "id": "AvdpJgvFcjnm",
    "outputId": "9b53ff67-4f79-4500-c071-89bc020c7a54"
   },
   "outputs": [
    {
     "name": "stdout",
     "output_type": "stream",
     "text": [
      "Epoch 1/10\n",
      "88/88 [==============================] - 10s 116ms/step - loss: 0.4748 - acc: 0.7950 - val_loss: 0.4357 - val_acc: 0.8332\n",
      "Epoch 2/10\n",
      "88/88 [==============================] - 9s 108ms/step - loss: 0.2714 - acc: 0.9010 - val_loss: 0.3154 - val_acc: 0.8852\n",
      "Epoch 3/10\n",
      "88/88 [==============================] - 9s 105ms/step - loss: 0.2101 - acc: 0.9266 - val_loss: 0.2904 - val_acc: 0.8836\n",
      "Epoch 4/10\n",
      "88/88 [==============================] - 9s 104ms/step - loss: 0.1751 - acc: 0.9383 - val_loss: 0.3111 - val_acc: 0.8844\n",
      "Epoch 5/10\n",
      "88/88 [==============================] - 9s 105ms/step - loss: 0.1514 - acc: 0.9479 - val_loss: 0.3266 - val_acc: 0.8772\n"
     ]
    }
   ],
   "source": [
    "hist = model.fit(X_train,YT_, validation_split = 0.1, epochs = 10, batch_size = 256, callbacks = [checkpoint, earlyStop])"
   ]
  },
  {
   "cell_type": "code",
   "execution_count": 28,
   "metadata": {
    "id": "GdtgTntjcoEr"
   },
   "outputs": [],
   "source": [
    "acc = hist.history['acc']\n",
    "loss = hist.history['loss']\n",
    "val_acc = hist.history['val_acc']\n",
    "val_loss = hist.history['val_loss']"
   ]
  },
  {
   "cell_type": "code",
   "execution_count": null,
   "metadata": {},
   "outputs": [],
   "source": []
  },
  {
   "cell_type": "markdown",
   "metadata": {},
   "source": [
    "##### Plotting model accuracy on training and testing data"
   ]
  },
  {
   "cell_type": "code",
   "execution_count": 29,
   "metadata": {
    "colab": {
     "base_uri": "https://localhost:8080/",
     "height": 400
    },
    "id": "4x2hxBJAeXTC",
    "outputId": "4e67a947-9285-49b1-f7af-ead33bfdf7ca"
   },
   "outputs": [
    {
     "data": {
      "image/png": "[encoded data removed]",
      "text/plain": [
       "<Figure size 576x396 with 1 Axes>"
      ]
     },
     "metadata": {
      "tags": []
     },
     "output_type": "display_data"
    }
   ],
   "source": [
    "plt.style.use(\"seaborn\")\n",
    "fig = plt.figure()\n",
    "fig.suptitle('Accuracy')\n",
    "plt.xlabel('Epoch')\n",
    "plt.ylabel('Accuracy')\n",
    "plt.plot(acc,label = 'training_acc')\n",
    "plt.plot(val_acc, label = 'val_acc')\n",
    "plt.show()"
   ]
  },
  {
   "cell_type": "code",
   "execution_count": 30,
   "metadata": {
    "id": "451Bjq87eaJg"
   },
   "outputs": [],
   "source": []
  },
  {
   "cell_type": "code",
   "execution_count": 31,
   "metadata": {
    "id": "HVIZG4k8JgQz"
   },
   "outputs": [],
   "source": [
    "import tensorflow as tf"
   ]
  },
  {
   "cell_type": "code",
   "execution_count": 32,
   "metadata": {
    "colab": {
     "base_uri": "https://localhost:8080/"
    },
    "id": "K_p8fpWCVTad",
    "outputId": "c9acf4cc-16b6-480e-bd5f-9c5d9d3dac05"
   },
   "outputs": [
    {
     "name": "stdout",
     "output_type": "stream",
     "text": [
      "782/782 [==============================] - 24s 30ms/step - loss: 0.3554 - acc: 0.8656\n"
     ]
    }
   ],
   "source": [
    "#Evaluating model on testing data\n",
    "loss, acc = model.evaluate(X_test,Yt_)"
   ]
  },
  {
   "cell_type": "code",
   "execution_count": 32,
   "metadata": {
    "id": "xWVY2aVPOZAZ"
   },
   "outputs": [],
   "source": []
  },
  {
   "cell_type": "code",
   "execution_count": 33,
   "metadata": {
    "id": "bWyUJaIvN_uL"
   },
   "outputs": [],
   "source": [
    "#saving Model\n",
    "model.save('sentimentModel.h5')"
   ]
  },
  {
   "cell_type": "code",
   "execution_count": 34,
   "metadata": {
    "id": "oxHLCS60iMoo"
   },
   "outputs": [],
   "source": []
  },
  {
   "cell_type": "code",
   "execution_count": 34,
   "metadata": {
    "id": "YrAycAxsiMbY"
   },
   "outputs": [],
   "source": []
  },
  {
   "cell_type": "code",
   "execution_count": 34,
   "metadata": {
    "id": "7gRK3yIliMSa"
   },
   "outputs": [],
   "source": []
  },
  {
   "cell_type": "code",
   "execution_count": 34,
   "metadata": {
    "id": "dktgJTTHiLzm"
   },
   "outputs": [],
   "source": []
  },
  {
   "cell_type": "code",
   "execution_count": 34,
   "metadata": {
    "id": "EIsl_L2WgBJC"
   },
   "outputs": [],
   "source": []
  },
  {
   "cell_type": "markdown",
   "metadata": {
    "id": "yBhPszQTighN"
   },
   "source": [
    "### Loading saved model and predicting"
   ]
  },
  {
   "cell_type": "code",
   "execution_count": 35,
   "metadata": {
    "id": "8lg1s7AhEa_E"
   },
   "outputs": [],
   "source": [
    "import numpy as np\n",
    "import matplotlib.pyplot as plt"
   ]
  },
  {
   "cell_type": "markdown",
   "metadata": {
    "id": "TCFNBKA1oJvD"
   },
   "source": [
    "##### loadingModel"
   ]
  },
  {
   "cell_type": "code",
   "execution_count": 37,
   "metadata": {
    "id": "8Jp1oGjufAUt"
   },
   "outputs": [],
   "source": [
    "from tensorflow.keras import models"
   ]
  },
  {
   "cell_type": "code",
   "execution_count": 38,
   "metadata": {
    "id": "2XTXZC-LeGBZ"
   },
   "outputs": [],
   "source": [
    "model = models.load_model('sentimentModel.h5')"
   ]
  },
  {
   "cell_type": "code",
   "execution_count": 39,
   "metadata": {
    "colab": {
     "base_uri": "https://localhost:8080/"
    },
    "id": "PU8RNhvNYlfS",
    "outputId": "3139c7e5-e40b-49fa-ba39-65ba66ccd5ce"
   },
   "outputs": [
    {
     "name": "stdout",
     "output_type": "stream",
     "text": [
      "[\"He has sung it so beautifully. Amazing! They've done a great job\", 'Such a horrible post!']\n"
     ]
    }
   ],
   "source": [
    "#Making corpus with sample sentences\n",
    "corpus = []\n",
    "testSen = \"He has sung it so beautifully. Amazing! They've done a great job\"\n",
    "corpus.append(testSen)\n",
    "testSen = \"Such a horrible post!\"\n",
    "corpus.append(testSen)\n",
    "print(corpus)\n"
   ]
  },
  {
   "cell_type": "code",
   "execution_count": 40,
   "metadata": {
    "id": "X-8lxKShu56o"
   },
   "outputs": [],
   "source": [
    "import ast"
   ]
  },
  {
   "cell_type": "code",
   "execution_count": 41,
   "metadata": {
    "id": "MkjXCm_UoMM0"
   },
   "outputs": [],
   "source": [
    "#Importing vocabulary\n",
    "f = open('vocabFile.txt', 'r') \n",
    "vocab = f.read()\n",
    "vocab = ast.literal_eval(vocab)"
   ]
  },
  {
   "cell_type": "code",
   "execution_count": 42,
   "metadata": {
    "id": "edH1dw4upOOR"
   },
   "outputs": [],
   "source": []
  },
  {
   "cell_type": "code",
   "execution_count": 43,
   "metadata": {
    "colab": {
     "base_uri": "https://localhost:8080/"
    },
    "id": "mZQoinUZf-7j",
    "outputId": "c9d6d1e6-d586-40fa-99f6-bc9267fe88e9"
   },
   "outputs": [
    {
     "name": "stdout",
     "output_type": "stream",
     "text": [
      "[nltk_data] Downloading package stopwords to /root/nltk_data...\n",
      "[nltk_data]   Package stopwords is already up-to-date!\n"
     ]
    }
   ],
   "source": [
    "#Imports\n",
    "\n",
    "#Vectorization\n",
    "from nltk.tokenize import RegexpTokenizer\n",
    "\n",
    "#stopwords\n",
    "import nltk\n",
    "nltk.download('stopwords')\n",
    "from nltk.corpus import stopwords\n",
    "\n",
    "#SnowballStemmer\n",
    "from nltk.stem.snowball import SnowballStemmer\n",
    "\n",
    "#padding\n",
    "from tensorflow.keras.preprocessing import sequence"
   ]
  },
  {
   "cell_type": "code",
   "execution_count": 44,
   "metadata": {
    "id": "QtWgAM2caQZd"
   },
   "outputs": [],
   "source": [
    "def stopwordRemoval(sen):\n",
    "  sw = (stopwords.words('english'))\n",
    "  useful = ['few','only','don',\"don't\",'not','but','if','until','or','while','by','about','against','below','above','up','down','off','again','when','both','no','such','nor',\"dont't\",'should',\"should've\"]\n",
    "  sw = sw[:142]\n",
    "  sw = [word for word in sw if word not in useful]\n",
    "  sw += ['cunt', 'wank', 'fuck', 'bastard', 'dick', 'cock', 'pussy', 'twat', 'tit', 'bitch', 'shit', 'ass', 'arse', 'crap', 'damn', 'nigga', 'nigger', 'porn', 'hooker', 'whore', 'hoe', 'cooch', 'slut', 'fap', 'jerk', 'fag', 'boob', 'darn'] \n",
    "  sen = [word.lower() for word in sen if word.lower() not in sw]\n",
    "  return sen\n",
    "\n",
    "def stem(sen):\n",
    "  ss = SnowballStemmer(language = ('english'))\n",
    "  sen = [ss.stem(word) for word in sen] \n",
    "  return sen"
   ]
  },
  {
   "cell_type": "code",
   "execution_count": null,
   "metadata": {},
   "outputs": [],
   "source": []
  },
  {
   "cell_type": "markdown",
   "metadata": {
    "id": "M_IJNIWixXxt"
   },
   "source": [
    "#### Preprocessing on Sample Input Sentences"
   ]
  },
  {
   "cell_type": "code",
   "execution_count": 46,
   "metadata": {
    "id": "nB0-MwNAbEd0"
   },
   "outputs": [],
   "source": [
    "def preProcessInput(corpus,vocab):\n",
    "  tokenizer = RegexpTokenizer('[a-zA-Z\\']+')   \n",
    "  i = 0\n",
    "  corpusCopy = corpus\n",
    "  #StopwordRemoval + Stemming\n",
    "  for sen in corpusCopy:\n",
    "    sen = tokenizer.tokenize(sen) \n",
    "    sen = stopwordRemoval(sen)\n",
    "    sen = stem(sen)\n",
    "    corpus[i] = sen\n",
    "    i = i+1\n",
    "  \n",
    "  XVec = []\n",
    "  for i in corpusCopy:\n",
    "    item = [vocab.get(key) for key in i if vocab.get(key) != None]\n",
    "    XVec.append(item)\n",
    "\n",
    "\n",
    "  XVec = np.array(XVec)\n",
    "  XVec = sequence.pad_sequences(XVec,maxlen = 500)\n",
    "  return XVec"
   ]
  },
  {
   "cell_type": "code",
   "execution_count": 47,
   "metadata": {
    "colab": {
     "base_uri": "https://localhost:8080/"
    },
    "id": "AT5qJTjGoPc8",
    "outputId": "6ec639e9-25ee-4a1f-ed53-b02f0387778e"
   },
   "outputs": [
    {
     "name": "stdout",
     "output_type": "stream",
     "text": [
      "[['sung', 'beautifully', 'amazing', \"they've\", 'done', 'great', 'job'], ['such', 'horrible', 'post']]\n"
     ]
    }
   ],
   "source": [
    "XVec = preProcessInput(corpus,vocab)\n",
    "print(corpus)"
   ]
  },
  {
   "cell_type": "code",
   "execution_count": null,
   "metadata": {},
   "outputs": [],
   "source": []
  },
  {
   "cell_type": "markdown",
   "metadata": {
    "id": "GOIrEUugyKdz"
   },
   "source": [
    "#### Predicting"
   ]
  },
  {
   "cell_type": "code",
   "execution_count": 48,
   "metadata": {
    "colab": {
     "base_uri": "https://localhost:8080/"
    },
    "id": "US5-NZxUfCFl",
    "outputId": "5c2b3d8a-2f79-466e-ffde-416f99ad3e1f"
   },
   "outputs": [
    {
     "data": {
      "text/plain": [
       "array([1, 0])"
      ]
     },
     "execution_count": 48,
     "metadata": {
      "tags": []
     },
     "output_type": "execute_result"
    }
   ],
   "source": [
    "#predicting with model\n",
    "np.argmax(model.predict(XVec),axis = 1)"
   ]
  },
  {
   "cell_type": "markdown",
   "metadata": {
    "id": "S3fBOnwhFSnn"
   },
   "source": [
    "#Insight on 2 sample sentences#\n",
    "\n",
    "\"He has sung it so beautifully. Amazing! They've done a great job\" - label: 1(good)\n",
    "\"Such a horrible post!\"  - label : 0(bad)"
   ]
  },
  {
   "cell_type": "code",
   "execution_count": null,
   "metadata": {
    "id": "7h2R1kVmf1Jv"
   },
   "outputs": [],
   "source": []
  },
  {
   "cell_type": "code",
   "execution_count": null,
   "metadata": {
    "id": "vY6AeN68k23M"
   },
   "outputs": [],
   "source": []
  },
  {
   "cell_type": "code",
   "execution_count": null,
   "metadata": {
    "id": "lSMQ_m-Ply4p"
   },
   "outputs": [],
   "source": []
  },
  {
   "cell_type": "code",
   "execution_count": null,
   "metadata": {
    "id": "6iGnJPo6m-b3"
   },
   "outputs": [],
   "source": []
  },
  {
   "cell_type": "code",
   "execution_count": null,
   "metadata": {
    "id": "RlHzGoAinrqn"
   },
   "outputs": [],
   "source": []
  },
  {
   "cell_type": "code",
   "execution_count": null,
   "metadata": {
    "id": "DaGQM8jKqv7_"
   },
   "outputs": [],
   "source": []
  },
  {
   "cell_type": "code",
   "execution_count": null,
   "metadata": {
    "id": "2lxcWMGpvd-d"
   },
   "outputs": [],
   "source": []
  }
 ],
 "metadata": {
  "accelerator": "GPU",
  "colab": {
   "name": "commentAnalysis.ipynb",
   "provenance": []
  },
  "kernelspec": {
   "display_name": "Python 3",
   "language": "python",
   "name": "python3"
  },
  "language_info": {
   "codemirror_mode": {
    "name": "ipython",
    "version": 3
   },
   "file_extension": ".py",
   "mimetype": "text/x-python",
   "name": "python",
   "nbconvert_exporter": "python",
   "pygments_lexer": "ipython3",
   "version": "3.7.4"
  }
 },
 "nbformat": 4,
 "nbformat_minor": 1
}
